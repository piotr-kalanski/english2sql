{
 "cells": [
  {
   "cell_type": "code",
   "execution_count": 1,
   "metadata": {},
   "outputs": [
    {
     "name": "stderr",
     "output_type": "stream",
     "text": [
      "d:\\Projects\\english-to-sql\\venv\\lib\\site-packages\\tqdm\\auto.py:21: TqdmWarning: IProgress not found. Please update jupyter and ipywidgets. See https://ipywidgets.readthedocs.io/en/stable/user_install.html\n",
      "  from .autonotebook import tqdm as notebook_tqdm\n"
     ]
    }
   ],
   "source": [
    "from llama_index.embeddings.bedrock import BedrockEmbedding\n",
    "from llama_index.llms.bedrock import Bedrock\n",
    "import json"
   ]
  },
  {
   "cell_type": "markdown",
   "metadata": {},
   "source": [
    "# Embeddings\n",
    "\n",
    "https://docs.llamaindex.ai/en/stable/examples/embeddings/bedrock/"
   ]
  },
  {
   "cell_type": "code",
   "execution_count": 3,
   "metadata": {},
   "outputs": [
    {
     "name": "stdout",
     "output_type": "stream",
     "text": [
      "{\n",
      "  \"amazon\": [\n",
      "    \"amazon.titan-embed-text-v1\",\n",
      "    \"amazon.titan-embed-g1-text-02\",\n",
      "    \"cohere.embed-english-v3\",\n",
      "    \"cohere.embed-multilingual-v3\"\n",
      "  ],\n",
      "  \"cohere\": [\n",
      "    \"amazon.titan-embed-text-v1\",\n",
      "    \"amazon.titan-embed-g1-text-02\",\n",
      "    \"cohere.embed-english-v3\",\n",
      "    \"cohere.embed-multilingual-v3\"\n",
      "  ]\n",
      "}\n"
     ]
    }
   ],
   "source": [
    "supported_models = BedrockEmbedding.list_supported_models()\n",
    "print(json.dumps(supported_models, indent=2))"
   ]
  },
  {
   "cell_type": "code",
   "execution_count": null,
   "metadata": {},
   "outputs": [],
   "source": [
    "model = BedrockEmbedding(model=\"amazon.titan-embed-g1-text-02\")\n",
    "embeddings = model.get_text_embedding(\"hello world\")\n",
    "print(embeddings)"
   ]
  },
  {
   "cell_type": "markdown",
   "metadata": {},
   "source": [
    "# LLM\n",
    "\n",
    "https://docs.llamaindex.ai/en/stable/examples/llm/bedrock/"
   ]
  },
  {
   "cell_type": "code",
   "execution_count": null,
   "metadata": {},
   "outputs": [],
   "source": [
    "resp = Bedrock(\n",
    "    model=\"amazon.titan-text-express-v1\"\n",
    ").complete(\"Paul Graham is \")"
   ]
  },
  {
   "cell_type": "code",
   "execution_count": 1,
   "metadata": {},
   "outputs": [
    {
     "data": {
      "text/plain": [
       "{'amazon.titan-tg1-large': 8000,\n",
       " 'amazon.titan-text-express-v1': 8000,\n",
       " 'ai21.j2-grande-instruct': 8000,\n",
       " 'ai21.j2-jumbo-instruct': 8000,\n",
       " 'ai21.j2-mid': 8000,\n",
       " 'ai21.j2-mid-v1': 8000,\n",
       " 'ai21.j2-ultra': 8000,\n",
       " 'ai21.j2-ultra-v1': 8000,\n",
       " 'cohere.command-text-v14': 4096,\n",
       " 'anthropic.claude-instant-v1': 100000,\n",
       " 'anthropic.claude-v1': 100000,\n",
       " 'anthropic.claude-v2': 100000,\n",
       " 'anthropic.claude-v2:1': 200000,\n",
       " 'anthropic.claude-3-sonnet-20240229-v1:0': 200000,\n",
       " 'anthropic.claude-3-haiku-20240307-v1:0': 200000,\n",
       " 'anthropic.claude-3-opus-20240229-v1:0': 200000,\n",
       " 'meta.llama2-13b-chat-v1': 2048,\n",
       " 'meta.llama2-70b-chat-v1': 4096,\n",
       " 'mistral.mistral-7b-instruct-v0:2': 32000,\n",
       " 'mistral.mixtral-8x7b-instruct-v0:1': 32000,\n",
       " 'mistral.mistral-large-2402-v1:0': 32000}"
      ]
     },
     "execution_count": 1,
     "metadata": {},
     "output_type": "execute_result"
    }
   ],
   "source": [
    "from llama_index.llms.bedrock.utils import BEDROCK_FOUNDATION_LLMS\n",
    "BEDROCK_FOUNDATION_LLMS"
   ]
  },
  {
   "cell_type": "code",
   "execution_count": null,
   "metadata": {},
   "outputs": [],
   "source": []
  }
 ],
 "metadata": {
  "kernelspec": {
   "display_name": "Python 3.10.0 ('venv': venv)",
   "language": "python",
   "name": "python3"
  },
  "language_info": {
   "codemirror_mode": {
    "name": "ipython",
    "version": 3
   },
   "file_extension": ".py",
   "mimetype": "text/x-python",
   "name": "python",
   "nbconvert_exporter": "python",
   "pygments_lexer": "ipython3",
   "version": "3.10.0"
  },
  "orig_nbformat": 4,
  "vscode": {
   "interpreter": {
    "hash": "ccef4a5a22dd229f1c3745087ddeb5ed84244d50210325929ab29d3e19e4eb9e"
   }
  }
 },
 "nbformat": 4,
 "nbformat_minor": 2
}
