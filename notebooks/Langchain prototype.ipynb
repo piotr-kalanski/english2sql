{
 "cells": [
  {
   "cell_type": "code",
   "execution_count": 3,
   "metadata": {},
   "outputs": [],
   "source": [
    "from langchain_chroma import Chroma\n",
    "from langchain_community.document_loaders import TextLoader\n",
    "from langchain_community.embeddings.sentence_transformer import (\n",
    "    SentenceTransformerEmbeddings,\n",
    ")\n",
    "from langchain_core.documents import Document"
   ]
  },
  {
   "cell_type": "markdown",
   "metadata": {},
   "source": [
    "# Sample documents"
   ]
  },
  {
   "cell_type": "code",
   "execution_count": 8,
   "metadata": {},
   "outputs": [],
   "source": [
    "tables_documents = [\n",
    "    Document(page_content=\"main.customers\", metadata= {'description': \"This table has basic information about a customer, as well as some derived facts based on a customer's orders\", 'columns': 'customer_id,first_name,last_name,first_order,most_recent_order,number_of_orders,total_order_amount'} ),\n",
    "    Document(page_content=\"main.orders\", metadata= {'description': 'This table has basic information about orders, as well as some derived facts based on payments', 'columns': 'order_id,customer_id,order_date,status,amount,credit_card_amount,coupon_amount,bank_transfer_amount,gift_card_amount'} ),\n",
    "    Document(page_content=\"main.stg_customers\", metadata= {'description': '', 'columns': 'customer_id'} ),\n",
    "    Document(page_content=\"main.stg_orders\", metadata= {'description': '', 'columns': 'order_id,status'} ),\n",
    "    Document(page_content=\"main.stg_payments\", metadata= {'description': '', 'columns': 'payment_id,payment_method'} ),\n",
    "]\n",
    "\n",
    "queries = [\n",
    "    {\n",
    "        \"description\": \"total revenue by fiscal month\",\n",
    "        \"sql\": \"select d.fiscal_month, sum(f.sales) as revenue from core.profitability_fact f join core.date d on f.date_fk = d.date_key\"\n",
    "    },\n",
    "    {\n",
    "        \"description\": \"active customers by fiscal month\",\n",
    "        \"sql\": \"select d.fiscal_month, count(distinct f.customer_fk) as customer_count from core.profitability_fact f join core.date d on f.date_fk = d.date_key where f.sales > 0\"\n",
    "    },\n",
    "    {\n",
    "        \"description\": \"order count by customer\",\n",
    "        \"sql\": \"SELECT customer_id, COUNT(order_id) AS order_count FROM main.orders GROUP BY customer_id\"\n",
    "    }\n",
    "]\n",
    "queries_documents = [\n",
    "    Document(page_content=q[\"description\"], metadata=q)\n",
    "    for q in queries\n",
    "]"
   ]
  },
  {
   "cell_type": "markdown",
   "metadata": {},
   "source": [
    "# Langchain Chroma basic"
   ]
  },
  {
   "cell_type": "code",
   "execution_count": 5,
   "metadata": {},
   "outputs": [
    {
     "name": "stderr",
     "output_type": "stream",
     "text": [
      "d:\\Projects\\english-to-sql\\venv\\lib\\site-packages\\tqdm\\auto.py:21: TqdmWarning: IProgress not found. Please update jupyter and ipywidgets. See https://ipywidgets.readthedocs.io/en/stable/user_install.html\n",
      "  from .autonotebook import tqdm as notebook_tqdm\n",
      "modules.json: 100%|██████████| 349/349 [00:00<00:00, 175kB/s]\n",
      "d:\\Projects\\english-to-sql\\venv\\lib\\site-packages\\huggingface_hub\\file_download.py:149: UserWarning: `huggingface_hub` cache-system uses symlinks by default to efficiently store duplicated files but your machine does not support them in C:\\Users\\piotr\\.cache\\huggingface\\hub\\models--sentence-transformers--all-MiniLM-L6-v2. Caching files will still work but in a degraded version that might require more space on your disk. This warning can be disabled by setting the `HF_HUB_DISABLE_SYMLINKS_WARNING` environment variable. For more details, see https://huggingface.co/docs/huggingface_hub/how-to-cache#limitations.\n",
      "To support symlinks on Windows, you either need to activate Developer Mode or to run Python as an administrator. In order to see activate developer mode, see this article: https://docs.microsoft.com/en-us/windows/apps/get-started/enable-your-device-for-development\n",
      "  warnings.warn(message)\n",
      "config_sentence_transformers.json: 100%|██████████| 116/116 [00:00<00:00, 123kB/s]\n",
      "README.md: 100%|██████████| 10.7k/10.7k [00:00<00:00, 12.9MB/s]\n",
      "sentence_bert_config.json: 100%|██████████| 53.0/53.0 [00:00<00:00, 67.3kB/s]\n",
      "config.json: 100%|██████████| 612/612 [00:00<00:00, 1.15MB/s]\n",
      "model.safetensors: 100%|██████████| 90.9M/90.9M [00:39<00:00, 2.32MB/s]\n",
      "tokenizer_config.json: 100%|██████████| 350/350 [00:00<?, ?B/s] \n",
      "vocab.txt: 100%|██████████| 232k/232k [00:00<00:00, 1.81MB/s]\n",
      "tokenizer.json: 100%|██████████| 466k/466k [00:00<00:00, 691kB/s]\n",
      "special_tokens_map.json: 100%|██████████| 112/112 [00:00<?, ?B/s] \n",
      "1_Pooling/config.json: 100%|██████████| 190/190 [00:00<?, ?B/s] \n"
     ]
    }
   ],
   "source": [
    "# create the open-source embedding function\n",
    "embedding_function = SentenceTransformerEmbeddings(model_name=\"all-MiniLM-L6-v2\")"
   ]
  },
  {
   "cell_type": "code",
   "execution_count": 6,
   "metadata": {},
   "outputs": [],
   "source": [
    "# load it into Chroma\n",
    "db = Chroma.from_documents(tables_documents, embedding_function)"
   ]
  },
  {
   "cell_type": "code",
   "execution_count": 9,
   "metadata": {},
   "outputs": [
    {
     "data": {
      "text/plain": [
       "[Document(page_content='main.orders', metadata={'columns': 'order_id,customer_id,order_date,status,amount,credit_card_amount,coupon_amount,bank_transfer_amount,gift_card_amount', 'description': 'This table has basic information about orders, as well as some derived facts based on payments'}),\n",
       " Document(page_content='main.stg_orders', metadata={'columns': 'order_id,status', 'description': ''}),\n",
       " Document(page_content='main.customers', metadata={'columns': 'customer_id,first_name,last_name,first_order,most_recent_order,number_of_orders,total_order_amount', 'description': \"This table has basic information about a customer, as well as some derived facts based on a customer's orders\"}),\n",
       " Document(page_content='main.stg_payments', metadata={'columns': 'payment_id,payment_method', 'description': ''})]"
      ]
     },
     "execution_count": 9,
     "metadata": {},
     "output_type": "execute_result"
    }
   ],
   "source": [
    "# query it\n",
    "query = \"order status\"\n",
    "docs = db.similarity_search(query)\n",
    "docs"
   ]
  },
  {
   "cell_type": "markdown",
   "metadata": {},
   "source": [
    "# Chroma saving to disk"
   ]
  },
  {
   "cell_type": "code",
   "execution_count": 10,
   "metadata": {},
   "outputs": [
    {
     "data": {
      "text/plain": [
       "[Document(page_content='main.orders', metadata={'columns': 'order_id,customer_id,order_date,status,amount,credit_card_amount,coupon_amount,bank_transfer_amount,gift_card_amount', 'description': 'This table has basic information about orders, as well as some derived facts based on payments'}),\n",
       " Document(page_content='main.stg_orders', metadata={'columns': 'order_id,status', 'description': ''}),\n",
       " Document(page_content='main.customers', metadata={'columns': 'customer_id,first_name,last_name,first_order,most_recent_order,number_of_orders,total_order_amount', 'description': \"This table has basic information about a customer, as well as some derived facts based on a customer's orders\"}),\n",
       " Document(page_content='main.stg_payments', metadata={'columns': 'payment_id,payment_method', 'description': ''})]"
      ]
     },
     "execution_count": 10,
     "metadata": {},
     "output_type": "execute_result"
    }
   ],
   "source": [
    "# save to disk\n",
    "db2 = Chroma.from_documents(tables_documents, embedding_function, persist_directory=\"./chroma_db\")\n",
    "docs = db2.similarity_search(\"order status\")\n",
    "docs"
   ]
  },
  {
   "cell_type": "code",
   "execution_count": 12,
   "metadata": {},
   "outputs": [
    {
     "data": {
      "text/plain": [
       "[Document(page_content='main.orders', metadata={'columns': 'order_id,customer_id,order_date,status,amount,credit_card_amount,coupon_amount,bank_transfer_amount,gift_card_amount', 'description': 'This table has basic information about orders, as well as some derived facts based on payments'}),\n",
       " Document(page_content='main.stg_orders', metadata={'columns': 'order_id,status', 'description': ''}),\n",
       " Document(page_content='main.customers', metadata={'columns': 'customer_id,first_name,last_name,first_order,most_recent_order,number_of_orders,total_order_amount', 'description': \"This table has basic information about a customer, as well as some derived facts based on a customer's orders\"}),\n",
       " Document(page_content='main.stg_payments', metadata={'columns': 'payment_id,payment_method', 'description': ''})]"
      ]
     },
     "execution_count": 12,
     "metadata": {},
     "output_type": "execute_result"
    }
   ],
   "source": [
    "# load from disk\n",
    "db3 = Chroma(persist_directory=\"./chroma_db\", embedding_function=embedding_function)\n",
    "docs = db3.similarity_search(\"order status\")\n",
    "docs"
   ]
  },
  {
   "cell_type": "markdown",
   "metadata": {},
   "source": [
    "# Chroma multiple collections"
   ]
  },
  {
   "cell_type": "code",
   "execution_count": 14,
   "metadata": {},
   "outputs": [],
   "source": [
    "persist_directory = 'chroma_multiple_collections_db'\n",
    "tables_chroma = Chroma(persist_directory=persist_directory, embedding_function=embedding_function, collection_name='tables')\n",
    "queries_chroma = Chroma(persist_directory=persist_directory, embedding_function=embedding_function, collection_name='queries')"
   ]
  },
  {
   "cell_type": "code",
   "execution_count": 15,
   "metadata": {},
   "outputs": [
    {
     "data": {
      "text/plain": [
       "['48ae7416-63f8-4ad4-a5dc-b79f210a6aba',\n",
       " 'da5b5184-4e41-464f-a735-d3d97d8f52be',\n",
       " '91736ede-4d28-4466-b479-940a71bf70e8',\n",
       " '30b9f2c1-a9f2-49c2-be59-45d258d6e871',\n",
       " 'b8c5f147-762b-456e-b6c2-1308e95de0ca']"
      ]
     },
     "execution_count": 15,
     "metadata": {},
     "output_type": "execute_result"
    }
   ],
   "source": [
    "tables_chroma.add_documents(tables_documents)"
   ]
  },
  {
   "cell_type": "code",
   "execution_count": 16,
   "metadata": {},
   "outputs": [
    {
     "data": {
      "text/plain": [
       "['c483aebd-9b9f-4b66-9cf7-6d71feecb966',\n",
       " '91840a42-5506-4da6-9f44-9125dec81479',\n",
       " '699de194-fb63-4bb6-9fdf-7c5a51bb23a4']"
      ]
     },
     "execution_count": 16,
     "metadata": {},
     "output_type": "execute_result"
    }
   ],
   "source": [
    "queries_chroma.add_documents(queries_documents)"
   ]
  },
  {
   "cell_type": "code",
   "execution_count": 17,
   "metadata": {},
   "outputs": [
    {
     "name": "stderr",
     "output_type": "stream",
     "text": [
      "Number of requested results 4 is greater than number of elements in index 3, updating n_results = 3\n"
     ]
    },
    {
     "data": {
      "text/plain": [
       "[Document(page_content='order count by customer', metadata={'description': 'order count by customer', 'sql': 'SELECT customer_id, COUNT(order_id) AS order_count FROM main.orders GROUP BY customer_id'}),\n",
       " Document(page_content='active customers by fiscal month', metadata={'description': 'active customers by fiscal month', 'sql': 'select d.fiscal_month, count(distinct f.customer_fk) as customer_count from core.profitability_fact f join core.date d on f.date_fk = d.date_key where f.sales > 0'}),\n",
       " Document(page_content='total revenue by fiscal month', metadata={'description': 'total revenue by fiscal month', 'sql': 'select d.fiscal_month, sum(f.sales) as revenue from core.profitability_fact f join core.date d on f.date_fk = d.date_key'})]"
      ]
     },
     "execution_count": 17,
     "metadata": {},
     "output_type": "execute_result"
    }
   ],
   "source": [
    "queries_chroma.similarity_search(\"order status\")"
   ]
  },
  {
   "cell_type": "code",
   "execution_count": 18,
   "metadata": {},
   "outputs": [
    {
     "data": {
      "text/plain": [
       "[Document(page_content='main.orders', metadata={'columns': 'order_id,customer_id,order_date,status,amount,credit_card_amount,coupon_amount,bank_transfer_amount,gift_card_amount', 'description': 'This table has basic information about orders, as well as some derived facts based on payments'}),\n",
       " Document(page_content='main.stg_orders', metadata={'columns': 'order_id,status', 'description': ''}),\n",
       " Document(page_content='main.customers', metadata={'columns': 'customer_id,first_name,last_name,first_order,most_recent_order,number_of_orders,total_order_amount', 'description': \"This table has basic information about a customer, as well as some derived facts based on a customer's orders\"}),\n",
       " Document(page_content='main.stg_payments', metadata={'columns': 'payment_id,payment_method', 'description': ''})]"
      ]
     },
     "execution_count": 18,
     "metadata": {},
     "output_type": "execute_result"
    }
   ],
   "source": [
    "tables_chroma.similarity_search(\"order status\")"
   ]
  },
  {
   "cell_type": "markdown",
   "metadata": {},
   "source": [
    "# ChromaDB - common functions for saving and searching"
   ]
  },
  {
   "cell_type": "code",
   "execution_count": 36,
   "metadata": {},
   "outputs": [],
   "source": [
    "from typing import List"
   ]
  },
  {
   "cell_type": "code",
   "execution_count": 46,
   "metadata": {},
   "outputs": [],
   "source": [
    "def _save_items(\n",
    "    #self,\n",
    "    items: List,\n",
    "    chroma: Chroma,\n",
    "    text_mapper,\n",
    "    metadata_mapper,\n",
    "):\n",
    "    documents = [\n",
    "        Document(\n",
    "            text=text_mapper(item),\n",
    "            metadata=metadata_mapper(item),\n",
    "        )\n",
    "        for item in items\n",
    "    ]\n",
    "    chroma.add_documents(documents)\n",
    "\n",
    "\n",
    "def _find_similar_items(\n",
    "    #self,\n",
    "    query: str,\n",
    "    chroma: Chroma,\n",
    "    similarity_top_k: int,\n",
    "    similarity_cutoff: float,\n",
    "    node_metadata_mapper\n",
    "):\n",
    "    top_n = chroma.similarity_search_with_score(query, k=similarity_top_k)\n",
    "    return [\n",
    "        node_metadata_mapper(**n[0].metadata)\n",
    "        for n in top_n\n",
    "        if n[1] > similarity_cutoff\n",
    "    ]"
   ]
  },
  {
   "cell_type": "code",
   "execution_count": 47,
   "metadata": {},
   "outputs": [
    {
     "data": {
      "text/plain": [
       "[{'columns': 'order_id,customer_id,order_date,status,amount,credit_card_amount,coupon_amount,bank_transfer_amount,gift_card_amount',\n",
       "  'description': 'This table has basic information about orders, as well as some derived facts based on payments'},\n",
       " {'columns': 'order_id,status', 'description': ''},\n",
       " {'columns': 'customer_id,first_name,last_name,first_order,most_recent_order,number_of_orders,total_order_amount',\n",
       "  'description': \"This table has basic information about a customer, as well as some derived facts based on a customer's orders\"},\n",
       " {'columns': 'payment_id,payment_method', 'description': ''},\n",
       " {'columns': 'customer_id', 'description': ''}]"
      ]
     },
     "execution_count": 47,
     "metadata": {},
     "output_type": "execute_result"
    }
   ],
   "source": [
    "def pass_mapper(**kwargs):\n",
    "    return kwargs\n",
    "\n",
    "_find_similar_items(\n",
    "    query=\"order status\",\n",
    "    chroma=tables_chroma,\n",
    "    similarity_top_k=5,\n",
    "    similarity_cutoff=.1,\n",
    "    node_metadata_mapper=pass_mapper\n",
    ")"
   ]
  },
  {
   "cell_type": "markdown",
   "metadata": {},
   "source": [
    "# SQL Generation"
   ]
  },
  {
   "cell_type": "markdown",
   "metadata": {},
   "source": [
    "## Hugging Face basic"
   ]
  },
  {
   "cell_type": "code",
   "execution_count": 19,
   "metadata": {},
   "outputs": [],
   "source": [
    "from langchain_community.llms.huggingface_pipeline import HuggingFacePipeline"
   ]
  },
  {
   "cell_type": "code",
   "execution_count": 20,
   "metadata": {},
   "outputs": [],
   "source": [
    "hf_llm = HuggingFacePipeline.from_model_id(\n",
    "    model_id=\"rakeshkiriyath/gpt2Medium_text_to_sql\",\n",
    "    task=\"text-generation\",\n",
    ")"
   ]
  },
  {
   "cell_type": "code",
   "execution_count": 28,
   "metadata": {},
   "outputs": [],
   "source": [
    "question = \"I need a list of employees who joined in the company last 6 months with a salary hike of 30%\""
   ]
  },
  {
   "cell_type": "code",
   "execution_count": 29,
   "metadata": {},
   "outputs": [
    {
     "data": {
      "text/plain": [
       "'I need a list of employees who joined in the company last 6 months with a salary hike of 30% and less than 600 reviews.SELECT employees FROM employees WHERE last_joined_in_company = \"6 months\" OR salary_increase ='"
      ]
     },
     "execution_count": 29,
     "metadata": {},
     "output_type": "execute_result"
    }
   ],
   "source": [
    "hf_llm.invoke(question)"
   ]
  },
  {
   "cell_type": "markdown",
   "metadata": {},
   "source": [
    "## HuggingFace with prompt template"
   ]
  },
  {
   "cell_type": "code",
   "execution_count": 30,
   "metadata": {},
   "outputs": [],
   "source": [
    "from langchain_core.prompts import PromptTemplate\n",
    "from langchain_core.output_parsers import StrOutputParser"
   ]
  },
  {
   "cell_type": "code",
   "execution_count": 23,
   "metadata": {},
   "outputs": [],
   "source": [
    "template = \"\"\"Question: {question}\"\"\"\n",
    "prompt = PromptTemplate.from_template(template)"
   ]
  },
  {
   "cell_type": "code",
   "execution_count": 33,
   "metadata": {},
   "outputs": [],
   "source": [
    "chain = prompt | hf_llm #| StrOutputParser()"
   ]
  },
  {
   "cell_type": "code",
   "execution_count": 34,
   "metadata": {},
   "outputs": [
    {
     "data": {
      "text/plain": [
       "'Question: I need a list of employees who joined in the company last 6 months with a salary hike of 30%SELECT Employees FROM employees WHERE Last_6_month_joined < 6 GROUP BY Last_6_month_joined HAVING SUM'"
      ]
     },
     "execution_count": 34,
     "metadata": {},
     "output_type": "execute_result"
    }
   ],
   "source": [
    "chain.invoke({\"question\": question})"
   ]
  },
  {
   "cell_type": "code",
   "execution_count": null,
   "metadata": {},
   "outputs": [],
   "source": []
  }
 ],
 "metadata": {
  "kernelspec": {
   "display_name": "venv",
   "language": "python",
   "name": "python3"
  },
  "language_info": {
   "codemirror_mode": {
    "name": "ipython",
    "version": 3
   },
   "file_extension": ".py",
   "mimetype": "text/x-python",
   "name": "python",
   "nbconvert_exporter": "python",
   "pygments_lexer": "ipython3",
   "version": "3.10.0"
  }
 },
 "nbformat": 4,
 "nbformat_minor": 2
}
