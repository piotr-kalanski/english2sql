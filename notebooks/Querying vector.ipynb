{
 "cells": [
  {
   "cell_type": "code",
   "execution_count": 27,
   "metadata": {},
   "outputs": [],
   "source": [
    "from llama_index.core import Document, VectorStoreIndex\n",
    "from llama_index.vector_stores.chroma import ChromaVectorStore\n",
    "from llama_index.core import StorageContext\n",
    "from llama_index.embeddings.huggingface import HuggingFaceEmbedding\n",
    "from llama_index.core.postprocessor import SimilarityPostprocessor\n",
    "import chromadb"
   ]
  },
  {
   "cell_type": "markdown",
   "metadata": {},
   "source": [
    "# Load chroma db inde"
   ]
  },
  {
   "cell_type": "code",
   "execution_count": 4,
   "metadata": {},
   "outputs": [],
   "source": [
    "embed_model = HuggingFaceEmbedding(model_name=\"BAAI/bge-base-en-v1.5\")"
   ]
  },
  {
   "cell_type": "code",
   "execution_count": 20,
   "metadata": {},
   "outputs": [],
   "source": [
    "db2 = chromadb.PersistentClient(path=\"../chroma_db\")\n",
    "chroma_collection = db2.get_or_create_collection(\"tables\")\n",
    "vector_store = ChromaVectorStore(chroma_collection=chroma_collection)\n",
    "tables_index = VectorStoreIndex.from_vector_store(\n",
    "    vector_store,\n",
    "    embed_model=embed_model,\n",
    ")"
   ]
  },
  {
   "cell_type": "code",
   "execution_count": 21,
   "metadata": {},
   "outputs": [],
   "source": [
    "chroma_collection = db2.get_or_create_collection(\"columns\")\n",
    "vector_store = ChromaVectorStore(chroma_collection=chroma_collection)\n",
    "columns_index = VectorStoreIndex.from_vector_store(\n",
    "    vector_store,\n",
    "    embed_model=embed_model,\n",
    ")"
   ]
  },
  {
   "cell_type": "markdown",
   "metadata": {},
   "source": [
    "# Vector Store Retriever from inde"
   ]
  },
  {
   "cell_type": "code",
   "execution_count": 22,
   "metadata": {},
   "outputs": [],
   "source": [
    "columns_retriever = columns_index.as_retriever(similarity_top_k=10)"
   ]
  },
  {
   "cell_type": "code",
   "execution_count": 15,
   "metadata": {},
   "outputs": [
    {
     "data": {
      "text/plain": [
       "llama_index.core.indices.vector_store.retrievers.retriever.VectorIndexRetriever"
      ]
     },
     "execution_count": 15,
     "metadata": {},
     "output_type": "execute_result"
    }
   ],
   "source": [
    "type(columns_retriever)"
   ]
  },
  {
   "cell_type": "code",
   "execution_count": 23,
   "metadata": {},
   "outputs": [
    {
     "data": {
      "text/plain": [
       "2"
      ]
     },
     "execution_count": 23,
     "metadata": {},
     "output_type": "execute_result"
    }
   ],
   "source": [
    "columns_retriever.similarity_top_k"
   ]
  },
  {
   "cell_type": "code",
   "execution_count": 24,
   "metadata": {},
   "outputs": [],
   "source": [
    "retreive_result = columns_retriever.retrieve(\"order\")"
   ]
  },
  {
   "cell_type": "code",
   "execution_count": 34,
   "metadata": {},
   "outputs": [
    {
     "data": {
      "text/plain": [
       "2"
      ]
     },
     "execution_count": 34,
     "metadata": {},
     "output_type": "execute_result"
    }
   ],
   "source": [
    "len(retreive_result)"
   ]
  },
  {
   "cell_type": "code",
   "execution_count": 26,
   "metadata": {},
   "outputs": [
    {
     "data": {
      "text/plain": [
       "{'schema_name': 'main',\n",
       " 'table_name': 'orders',\n",
       " 'column_name': 'status',\n",
       " 'type': 'VARCHAR',\n",
       " 'description': 'Orders can be one of the following statuses:\\n\\n| status         | description                                                                                                            |\\n|----------------|------------------------------------------------------------------------------------------------------------------------|\\n| placed         | The order has been placed but has not yet left the warehouse                                                           |\\n| shipped        | The order has ben shipped to the customer and is currently in transit                                                  |\\n| completed      | The order has been received by the customer                                                                            |\\n| return_pending | The customer has indicated that they would like to return the order, but it has not yet been received at the warehouse |\\n| returned       | The order has been returned by the customer and received at the warehouse                                              |',\n",
       " 'accepted_values': 'placed,shipped,completed,return_pending,returned'}"
      ]
     },
     "execution_count": 26,
     "metadata": {},
     "output_type": "execute_result"
    }
   ],
   "source": [
    "retreive_result[0].metadata"
   ]
  },
  {
   "cell_type": "markdown",
   "metadata": {},
   "source": [
    "# SimilarityPostprocessor\n",
    "\n",
    "https://docs.llamaindex.ai/en/stable/api_reference/postprocessor/similarity/"
   ]
  },
  {
   "cell_type": "code",
   "execution_count": 32,
   "metadata": {},
   "outputs": [],
   "source": [
    "sp = SimilarityPostprocessor(similarity_cutoff=0.5)"
   ]
  },
  {
   "cell_type": "code",
   "execution_count": 35,
   "metadata": {},
   "outputs": [
    {
     "data": {
      "text/plain": [
       "1"
      ]
     },
     "execution_count": 35,
     "metadata": {},
     "output_type": "execute_result"
    }
   ],
   "source": [
    "len(sp.postprocess_nodes(retreive_result))"
   ]
  },
  {
   "cell_type": "markdown",
   "metadata": {},
   "source": [
    "# Query Pipeline\n",
    "\n",
    "https://docs.llamaindex.ai/en/stable/module_guides/querying/pipeline/"
   ]
  },
  {
   "cell_type": "code",
   "execution_count": 36,
   "metadata": {},
   "outputs": [],
   "source": [
    "from llama_index.core.query_pipeline import QueryPipeline"
   ]
  },
  {
   "cell_type": "code",
   "execution_count": 37,
   "metadata": {},
   "outputs": [],
   "source": [
    "p = QueryPipeline(chain=[columns_retriever, sp], verbose=True)"
   ]
  },
  {
   "cell_type": "code",
   "execution_count": 39,
   "metadata": {},
   "outputs": [
    {
     "name": "stdout",
     "output_type": "stream",
     "text": [
      "\u001b[1;3;38;2;155;135;227m> Running module 2c5b2cbb-f52f-495b-adc7-2e824bffa273 with input: \n",
      "input: customer\n",
      "\n",
      "\u001b[0m\u001b[1;3;38;2;155;135;227m> Running module 02a6ff90-0887-4e3d-9660-fcf32ecdad47 with input: \n",
      "nodes: [NodeWithScore(node=TextNode(id_='fac2dfe2-7452-4723-83f1-7376f968f65a', embedding=None, metadata={'schema_name': 'main', 'table_name': 'customers', 'column_name': 'customer_id', 'type': 'INTEGER', 'd...\n",
      "\n",
      "\u001b[0m"
     ]
    },
    {
     "data": {
      "text/plain": [
       "[NodeWithScore(node=TextNode(id_='fac2dfe2-7452-4723-83f1-7376f968f65a', embedding=None, metadata={'schema_name': 'main', 'table_name': 'customers', 'column_name': 'customer_id', 'type': 'INTEGER', 'description': 'This is a unique identifier for a customer', 'accepted_values': ''}, excluded_embed_metadata_keys=[], excluded_llm_metadata_keys=[], relationships={<NodeRelationship.SOURCE: '1'>: RelatedNodeInfo(node_id='24534956-699f-4589-81f0-e1faf03e5843', node_type=<ObjectType.DOCUMENT: '4'>, metadata={'schema_name': 'main', 'table_name': 'customers', 'column_name': 'customer_id', 'type': 'INTEGER', 'description': 'This is a unique identifier for a customer', 'accepted_values': ''}, hash='2d7933472a2fdf928ddaeabf00612681859b6fb43793f1a2b75959b255cb730b'), <NodeRelationship.NEXT: '3'>: RelatedNodeInfo(node_id='6349d21d-60ea-4b68-9e2b-13c17997db74', node_type=<ObjectType.TEXT: '1'>, metadata={}, hash='0645676091599a715cf0a9a655258151f251ba07f7af3c57f74c984c6f3bc2ec')}, text='customer_id This is a unique identifier for a customer', start_char_idx=0, end_char_idx=54, text_template='{metadata_str}\\n\\n{content}', metadata_template='{key}: {value}', metadata_seperator='\\n'), score=0.5287060594396145)]"
      ]
     },
     "execution_count": 39,
     "metadata": {},
     "output_type": "execute_result"
    }
   ],
   "source": [
    "qp_result = p.run(\"customer\")"
   ]
  },
  {
   "cell_type": "code",
   "execution_count": 43,
   "metadata": {},
   "outputs": [
    {
     "data": {
      "text/plain": [
       "QueryPipeline(partial_dict={}, callback_manager=<llama_index.core.callbacks.base.CallbackManager object at 0x0000022CAC12DC90>, module_dict={'2c5b2cbb-f52f-495b-adc7-2e824bffa273': RetrieverComponent(partial_dict={}, retriever=<llama_index.core.indices.vector_store.retrievers.retriever.VectorIndexRetriever object at 0x0000022CAD084CA0>), '02a6ff90-0887-4e3d-9660-fcf32ecdad47': PostprocessorComponent(partial_dict={}, postprocessor=SimilarityPostprocessor(callback_manager=<llama_index.core.callbacks.base.CallbackManager object at 0x0000022CAC12DC90>, similarity_cutoff=0.5))}, dag=<networkx.classes.multidigraph.MultiDiGraph object at 0x0000022CAC12E500>, verbose=True, show_progress=False, num_workers=4)"
      ]
     },
     "execution_count": 43,
     "metadata": {},
     "output_type": "execute_result"
    }
   ],
   "source": [
    "p"
   ]
  },
  {
   "cell_type": "markdown",
   "metadata": {},
   "source": [
    "# Generic find similar items and map metadata"
   ]
  },
  {
   "cell_type": "code",
   "execution_count": 59,
   "metadata": {},
   "outputs": [
    {
     "data": {
      "text/plain": [
       "llama_index.core.indices.vector_store.retrievers.retriever.VectorIndexRetriever"
      ]
     },
     "execution_count": 59,
     "metadata": {},
     "output_type": "execute_result"
    }
   ],
   "source": [
    "from llama_index.core.retrievers import VectorIndexRetriever\n",
    "type(columns_retriever)"
   ]
  },
  {
   "cell_type": "code",
   "execution_count": 47,
   "metadata": {},
   "outputs": [],
   "source": [
    "def find_similar_items(\n",
    "    query: str,\n",
    "    retriever: VectorIndexRetriever,\n",
    "    similarity_cutoff: float,\n",
    "    node_metadata_mapper\n",
    "):\n",
    "    top_n = retriever.retrieve(query)\n",
    "    filtered = SimilarityPostprocessor(similarity_cutoff=similarity_cutoff).postprocess_nodes(top_n)\n",
    "    return [\n",
    "        node_metadata_mapper(**n.metadata)\n",
    "        for n in filtered\n",
    "    ]"
   ]
  },
  {
   "cell_type": "code",
   "execution_count": 60,
   "metadata": {},
   "outputs": [],
   "source": [
    "from dataclasses import dataclass\n",
    "\n",
    "@dataclass\n",
    "class QueryColumnResult:\n",
    "    schema_name: str\n",
    "    table_name: str\n",
    "    column_name: str\n",
    "    type: str\n",
    "    description: str\n",
    "    accepted_values: str"
   ]
  },
  {
   "cell_type": "code",
   "execution_count": 61,
   "metadata": {},
   "outputs": [
    {
     "data": {
      "text/plain": [
       "[QueryColumnResult(schema_name='main', table_name='customers', column_name='customer_id', type='INTEGER', description='This is a unique identifier for a customer', accepted_values=''),\n",
       " QueryColumnResult(schema_name='main', table_name='stg_customers', column_name='customer_id', type='INTEGER', description='', accepted_values='')]"
      ]
     },
     "execution_count": 61,
     "metadata": {},
     "output_type": "execute_result"
    }
   ],
   "source": [
    "r = find_similar_items(\n",
    "    \"customer\",\n",
    "    columns_retriever,\n",
    "    0.2,\n",
    "    QueryColumnResult\n",
    ")\n",
    "r"
   ]
  },
  {
   "cell_type": "code",
   "execution_count": 66,
   "metadata": {},
   "outputs": [
    {
     "data": {
      "text/plain": [
       "QueryColumnResult(schema_name='main', table_name='customers', column_name='customer_id', type='INTEGER', description='This is a unique identifier for a customer', accepted_values='')"
      ]
     },
     "execution_count": 66,
     "metadata": {},
     "output_type": "execute_result"
    }
   ],
   "source": [
    "r[0]"
   ]
  },
  {
   "cell_type": "code",
   "execution_count": 67,
   "metadata": {},
   "outputs": [],
   "source": [
    "from pydantic import BaseModel\n",
    "\n",
    "class ColumnVectorMetadata(BaseModel):\n",
    "    schema_name: str\n",
    "    table_name: str\n",
    "    column_name: str\n",
    "    type: str\n",
    "    description: str\n",
    "    accepted_values: str "
   ]
  },
  {
   "cell_type": "code",
   "execution_count": 68,
   "metadata": {},
   "outputs": [
    {
     "data": {
      "text/plain": [
       "[ColumnVectorMetadata(schema_name='main', table_name='customers', column_name='customer_id', type='INTEGER', description='This is a unique identifier for a customer', accepted_values=''),\n",
       " ColumnVectorMetadata(schema_name='main', table_name='stg_customers', column_name='customer_id', type='INTEGER', description='', accepted_values='')]"
      ]
     },
     "execution_count": 68,
     "metadata": {},
     "output_type": "execute_result"
    }
   ],
   "source": [
    "r = find_similar_items(\n",
    "    \"customer\",\n",
    "    columns_retriever,\n",
    "    0.2,\n",
    "    ColumnVectorMetadata\n",
    ")\n",
    "r"
   ]
  },
  {
   "cell_type": "code",
   "execution_count": 70,
   "metadata": {},
   "outputs": [
    {
     "data": {
      "text/plain": [
       "{'schema_name': 'main',\n",
       " 'table_name': 'customers',\n",
       " 'column_name': 'customer_id',\n",
       " 'type': 'INTEGER',\n",
       " 'description': 'This is a unique identifier for a customer',\n",
       " 'accepted_values': ''}"
      ]
     },
     "execution_count": 70,
     "metadata": {},
     "output_type": "execute_result"
    }
   ],
   "source": [
    "r[0].dict()"
   ]
  },
  {
   "cell_type": "code",
   "execution_count": null,
   "metadata": {},
   "outputs": [],
   "source": []
  }
 ],
 "metadata": {
  "kernelspec": {
   "display_name": "Python 3.10.0 ('venv': venv)",
   "language": "python",
   "name": "python3"
  },
  "language_info": {
   "codemirror_mode": {
    "name": "ipython",
    "version": 3
   },
   "file_extension": ".py",
   "mimetype": "text/x-python",
   "name": "python",
   "nbconvert_exporter": "python",
   "pygments_lexer": "ipython3",
   "version": "3.10.0"
  },
  "orig_nbformat": 4,
  "vscode": {
   "interpreter": {
    "hash": "ccef4a5a22dd229f1c3745087ddeb5ed84244d50210325929ab29d3e19e4eb9e"
   }
  }
 },
 "nbformat": 4,
 "nbformat_minor": 2
}
