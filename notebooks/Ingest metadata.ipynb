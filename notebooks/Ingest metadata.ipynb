{
 "cells": [
  {
   "cell_type": "code",
   "execution_count": 1,
   "metadata": {},
   "outputs": [],
   "source": [
    "from llama_index.core import Document, VectorStoreIndex\n",
    "from llama_index.vector_stores.chroma import ChromaVectorStore\n",
    "from llama_index.core import StorageContext\n",
    "from llama_index.embeddings.huggingface import HuggingFaceEmbedding\n",
    "import chromadb"
   ]
  },
  {
   "cell_type": "markdown",
   "metadata": {},
   "source": [
    "# Inde metadata"
   ]
  },
  {
   "cell_type": "markdown",
   "metadata": {},
   "source": [
    "https://docs.llamaindex.ai/en/stable/understanding/loading/loading/\n",
    "\n",
    "https://docs.llamaindex.ai/en/stable/examples/vector_stores/ChromaIndexDemo/\n",
    "\n",
    "https://docs.llamaindex.ai/en/stable/understanding/querying/querying/\n",
    "\n",
    "https://docs.llamaindex.ai/en/stable/module_guides/querying/retriever/"
   ]
  },
  {
   "cell_type": "code",
   "execution_count": 2,
   "metadata": {},
   "outputs": [],
   "source": [
    "chroma_client = chromadb.EphemeralClient()\n",
    "chroma_collection = chroma_client.create_collection(\"quickstart\")"
   ]
  },
  {
   "cell_type": "code",
   "execution_count": 3,
   "metadata": {},
   "outputs": [
    {
     "data": {
      "application/vnd.jupyter.widget-view+json": {
       "model_id": "654edda30f4945b38e2353783b3b48c5",
       "version_major": 2,
       "version_minor": 0
      },
      "text/plain": [
       "modules.json:   0%|          | 0.00/349 [00:00<?, ?B/s]"
      ]
     },
     "metadata": {},
     "output_type": "display_data"
    },
    {
     "name": "stderr",
     "output_type": "stream",
     "text": [
      "c:\\Users\\Pkalanski\\Anaconda3\\envs\\llm-env\\Lib\\site-packages\\huggingface_hub\\file_download.py:149: UserWarning: `huggingface_hub` cache-system uses symlinks by default to efficiently store duplicated files but your machine does not support them in C:\\Users\\Pkalanski\\AppData\\Local\\llama_index\\models--BAAI--bge-base-en-v1.5. Caching files will still work but in a degraded version that might require more space on your disk. This warning can be disabled by setting the `HF_HUB_DISABLE_SYMLINKS_WARNING` environment variable. For more details, see https://huggingface.co/docs/huggingface_hub/how-to-cache#limitations.\n",
      "To support symlinks on Windows, you either need to activate Developer Mode or to run Python as an administrator. In order to see activate developer mode, see this article: https://docs.microsoft.com/en-us/windows/apps/get-started/enable-your-device-for-development\n",
      "  warnings.warn(message)\n"
     ]
    },
    {
     "data": {
      "application/vnd.jupyter.widget-view+json": {
       "model_id": "7fcf7b4cb66c4419997788e073c6b2e6",
       "version_major": 2,
       "version_minor": 0
      },
      "text/plain": [
       "config_sentence_transformers.json:   0%|          | 0.00/124 [00:00<?, ?B/s]"
      ]
     },
     "metadata": {},
     "output_type": "display_data"
    },
    {
     "data": {
      "application/vnd.jupyter.widget-view+json": {
       "model_id": "241e12037dd6427d926f3fba66971928",
       "version_major": 2,
       "version_minor": 0
      },
      "text/plain": [
       "README.md:   0%|          | 0.00/94.6k [00:00<?, ?B/s]"
      ]
     },
     "metadata": {},
     "output_type": "display_data"
    },
    {
     "data": {
      "application/vnd.jupyter.widget-view+json": {
       "model_id": "1adc93a8317e4fc3ad6516635890e1e2",
       "version_major": 2,
       "version_minor": 0
      },
      "text/plain": [
       "sentence_bert_config.json:   0%|          | 0.00/52.0 [00:00<?, ?B/s]"
      ]
     },
     "metadata": {},
     "output_type": "display_data"
    },
    {
     "data": {
      "application/vnd.jupyter.widget-view+json": {
       "model_id": "f18bdbd3c62f459995e866683203a7fd",
       "version_major": 2,
       "version_minor": 0
      },
      "text/plain": [
       "config.json:   0%|          | 0.00/777 [00:00<?, ?B/s]"
      ]
     },
     "metadata": {},
     "output_type": "display_data"
    },
    {
     "data": {
      "application/vnd.jupyter.widget-view+json": {
       "model_id": "7bbf490bf37345689c277d646a68924f",
       "version_major": 2,
       "version_minor": 0
      },
      "text/plain": [
       "model.safetensors:   0%|          | 0.00/438M [00:00<?, ?B/s]"
      ]
     },
     "metadata": {},
     "output_type": "display_data"
    },
    {
     "data": {
      "application/vnd.jupyter.widget-view+json": {
       "model_id": "2fd7a26d99e94337bbde2a754b814b0d",
       "version_major": 2,
       "version_minor": 0
      },
      "text/plain": [
       "tokenizer_config.json:   0%|          | 0.00/366 [00:00<?, ?B/s]"
      ]
     },
     "metadata": {},
     "output_type": "display_data"
    },
    {
     "data": {
      "application/vnd.jupyter.widget-view+json": {
       "model_id": "21f3ef16e932420db6c1d152bf19b016",
       "version_major": 2,
       "version_minor": 0
      },
      "text/plain": [
       "vocab.txt:   0%|          | 0.00/232k [00:00<?, ?B/s]"
      ]
     },
     "metadata": {},
     "output_type": "display_data"
    },
    {
     "data": {
      "application/vnd.jupyter.widget-view+json": {
       "model_id": "f2436fb6b962438ea5c97594ca0c81ee",
       "version_major": 2,
       "version_minor": 0
      },
      "text/plain": [
       "tokenizer.json:   0%|          | 0.00/711k [00:00<?, ?B/s]"
      ]
     },
     "metadata": {},
     "output_type": "display_data"
    },
    {
     "data": {
      "application/vnd.jupyter.widget-view+json": {
       "model_id": "070aad2637a64b84b5f360e02fd55139",
       "version_major": 2,
       "version_minor": 0
      },
      "text/plain": [
       "special_tokens_map.json:   0%|          | 0.00/125 [00:00<?, ?B/s]"
      ]
     },
     "metadata": {},
     "output_type": "display_data"
    },
    {
     "data": {
      "application/vnd.jupyter.widget-view+json": {
       "model_id": "ea5704fa49f04534a4f412f468775113",
       "version_major": 2,
       "version_minor": 0
      },
      "text/plain": [
       "1_Pooling/config.json:   0%|          | 0.00/190 [00:00<?, ?B/s]"
      ]
     },
     "metadata": {},
     "output_type": "display_data"
    },
    {
     "data": {
      "application/vnd.jupyter.widget-view+json": {
       "model_id": "d8f474b058834334b68172acc733185c",
       "version_major": 2,
       "version_minor": 0
      },
      "text/plain": [
       "modules.json:   0%|          | 0.00/349 [00:00<?, ?B/s]"
      ]
     },
     "metadata": {},
     "output_type": "display_data"
    },
    {
     "name": "stderr",
     "output_type": "stream",
     "text": [
      "c:\\Users\\Pkalanski\\Anaconda3\\envs\\llm-env\\Lib\\site-packages\\huggingface_hub\\file_download.py:149: UserWarning: `huggingface_hub` cache-system uses symlinks by default to efficiently store duplicated files but your machine does not support them in C:\\Users\\Pkalanski\\AppData\\Local\\llama_index\\models--BAAI--bge-small-en-v1.5. Caching files will still work but in a degraded version that might require more space on your disk. This warning can be disabled by setting the `HF_HUB_DISABLE_SYMLINKS_WARNING` environment variable. For more details, see https://huggingface.co/docs/huggingface_hub/how-to-cache#limitations.\n",
      "To support symlinks on Windows, you either need to activate Developer Mode or to run Python as an administrator. In order to see activate developer mode, see this article: https://docs.microsoft.com/en-us/windows/apps/get-started/enable-your-device-for-development\n",
      "  warnings.warn(message)\n"
     ]
    },
    {
     "data": {
      "application/vnd.jupyter.widget-view+json": {
       "model_id": "ed5c0c116b364cc9ab2539ec31c03cb5",
       "version_major": 2,
       "version_minor": 0
      },
      "text/plain": [
       "config_sentence_transformers.json:   0%|          | 0.00/124 [00:00<?, ?B/s]"
      ]
     },
     "metadata": {},
     "output_type": "display_data"
    },
    {
     "data": {
      "application/vnd.jupyter.widget-view+json": {
       "model_id": "d89c782c36f9451c980c41e67ac581e3",
       "version_major": 2,
       "version_minor": 0
      },
      "text/plain": [
       "README.md:   0%|          | 0.00/94.8k [00:00<?, ?B/s]"
      ]
     },
     "metadata": {},
     "output_type": "display_data"
    },
    {
     "data": {
      "application/vnd.jupyter.widget-view+json": {
       "model_id": "8abbdba1072e4d38985b569a504f3970",
       "version_major": 2,
       "version_minor": 0
      },
      "text/plain": [
       "sentence_bert_config.json:   0%|          | 0.00/52.0 [00:00<?, ?B/s]"
      ]
     },
     "metadata": {},
     "output_type": "display_data"
    },
    {
     "data": {
      "application/vnd.jupyter.widget-view+json": {
       "model_id": "311073387ba44a85a00220b1f8a08a49",
       "version_major": 2,
       "version_minor": 0
      },
      "text/plain": [
       "config.json:   0%|          | 0.00/743 [00:00<?, ?B/s]"
      ]
     },
     "metadata": {},
     "output_type": "display_data"
    },
    {
     "data": {
      "application/vnd.jupyter.widget-view+json": {
       "model_id": "6c1c9aa4fb1944028dc4102a2481bb91",
       "version_major": 2,
       "version_minor": 0
      },
      "text/plain": [
       "model.safetensors:   0%|          | 0.00/133M [00:00<?, ?B/s]"
      ]
     },
     "metadata": {},
     "output_type": "display_data"
    },
    {
     "data": {
      "application/vnd.jupyter.widget-view+json": {
       "model_id": "14e4838360c84ea593e72daf004cf1a8",
       "version_major": 2,
       "version_minor": 0
      },
      "text/plain": [
       "tokenizer_config.json:   0%|          | 0.00/366 [00:00<?, ?B/s]"
      ]
     },
     "metadata": {},
     "output_type": "display_data"
    },
    {
     "data": {
      "application/vnd.jupyter.widget-view+json": {
       "model_id": "83b53f9837004fef84f552b1793dd04c",
       "version_major": 2,
       "version_minor": 0
      },
      "text/plain": [
       "vocab.txt:   0%|          | 0.00/232k [00:00<?, ?B/s]"
      ]
     },
     "metadata": {},
     "output_type": "display_data"
    },
    {
     "data": {
      "application/vnd.jupyter.widget-view+json": {
       "model_id": "e827d4c3817e4db297b4fe8a4d23eebd",
       "version_major": 2,
       "version_minor": 0
      },
      "text/plain": [
       "tokenizer.json:   0%|          | 0.00/711k [00:00<?, ?B/s]"
      ]
     },
     "metadata": {},
     "output_type": "display_data"
    },
    {
     "data": {
      "application/vnd.jupyter.widget-view+json": {
       "model_id": "fb8b486539554b58b108b7092d882df2",
       "version_major": 2,
       "version_minor": 0
      },
      "text/plain": [
       "special_tokens_map.json:   0%|          | 0.00/125 [00:00<?, ?B/s]"
      ]
     },
     "metadata": {},
     "output_type": "display_data"
    },
    {
     "data": {
      "application/vnd.jupyter.widget-view+json": {
       "model_id": "0adaafc1685641fdbdbd324aeac634e9",
       "version_major": 2,
       "version_minor": 0
      },
      "text/plain": [
       "1_Pooling/config.json:   0%|          | 0.00/190 [00:00<?, ?B/s]"
      ]
     },
     "metadata": {},
     "output_type": "display_data"
    },
    {
     "data": {
      "application/vnd.jupyter.widget-view+json": {
       "model_id": "2aba5817f6614954a423cbdc1ac8c7ed",
       "version_major": 2,
       "version_minor": 0
      },
      "text/plain": [
       "modules.json:   0%|          | 0.00/349 [00:00<?, ?B/s]"
      ]
     },
     "metadata": {},
     "output_type": "display_data"
    },
    {
     "name": "stderr",
     "output_type": "stream",
     "text": [
      "c:\\Users\\Pkalanski\\Anaconda3\\envs\\llm-env\\Lib\\site-packages\\huggingface_hub\\file_download.py:149: UserWarning: `huggingface_hub` cache-system uses symlinks by default to efficiently store duplicated files but your machine does not support them in C:\\Users\\Pkalanski\\AppData\\Local\\llama_index\\models--BAAI--bge-large-en-v1.5. Caching files will still work but in a degraded version that might require more space on your disk. This warning can be disabled by setting the `HF_HUB_DISABLE_SYMLINKS_WARNING` environment variable. For more details, see https://huggingface.co/docs/huggingface_hub/how-to-cache#limitations.\n",
      "To support symlinks on Windows, you either need to activate Developer Mode or to run Python as an administrator. In order to see activate developer mode, see this article: https://docs.microsoft.com/en-us/windows/apps/get-started/enable-your-device-for-development\n",
      "  warnings.warn(message)\n"
     ]
    },
    {
     "data": {
      "application/vnd.jupyter.widget-view+json": {
       "model_id": "fed5fbb0ce154a4bb2ed6dd2fd7583ab",
       "version_major": 2,
       "version_minor": 0
      },
      "text/plain": [
       "config_sentence_transformers.json:   0%|          | 0.00/124 [00:00<?, ?B/s]"
      ]
     },
     "metadata": {},
     "output_type": "display_data"
    },
    {
     "data": {
      "application/vnd.jupyter.widget-view+json": {
       "model_id": "ec707a6f9e194e0387022d697cd3f9ce",
       "version_major": 2,
       "version_minor": 0
      },
      "text/plain": [
       "README.md:   0%|          | 0.00/94.6k [00:00<?, ?B/s]"
      ]
     },
     "metadata": {},
     "output_type": "display_data"
    },
    {
     "data": {
      "application/vnd.jupyter.widget-view+json": {
       "model_id": "95b5e89879ff4a1795e30d231dcf597c",
       "version_major": 2,
       "version_minor": 0
      },
      "text/plain": [
       "sentence_bert_config.json:   0%|          | 0.00/52.0 [00:00<?, ?B/s]"
      ]
     },
     "metadata": {},
     "output_type": "display_data"
    },
    {
     "data": {
      "application/vnd.jupyter.widget-view+json": {
       "model_id": "23e24e74e93a487e8c63e1205d08917b",
       "version_major": 2,
       "version_minor": 0
      },
      "text/plain": [
       "config.json:   0%|          | 0.00/779 [00:00<?, ?B/s]"
      ]
     },
     "metadata": {},
     "output_type": "display_data"
    },
    {
     "data": {
      "application/vnd.jupyter.widget-view+json": {
       "model_id": "eb62365d115c4ccebd97df2352a56b81",
       "version_major": 2,
       "version_minor": 0
      },
      "text/plain": [
       "model.safetensors:   0%|          | 0.00/1.34G [00:00<?, ?B/s]"
      ]
     },
     "metadata": {},
     "output_type": "display_data"
    },
    {
     "data": {
      "application/vnd.jupyter.widget-view+json": {
       "model_id": "4f1a7dcb72a94a959076cbdbca41a6ea",
       "version_major": 2,
       "version_minor": 0
      },
      "text/plain": [
       "tokenizer_config.json:   0%|          | 0.00/366 [00:00<?, ?B/s]"
      ]
     },
     "metadata": {},
     "output_type": "display_data"
    },
    {
     "data": {
      "application/vnd.jupyter.widget-view+json": {
       "model_id": "1be1c162a6af4065a0ba2243f5a49d2a",
       "version_major": 2,
       "version_minor": 0
      },
      "text/plain": [
       "vocab.txt:   0%|          | 0.00/232k [00:00<?, ?B/s]"
      ]
     },
     "metadata": {},
     "output_type": "display_data"
    },
    {
     "data": {
      "application/vnd.jupyter.widget-view+json": {
       "model_id": "f77162d501624345aaa027942c77af7d",
       "version_major": 2,
       "version_minor": 0
      },
      "text/plain": [
       "tokenizer.json:   0%|          | 0.00/711k [00:00<?, ?B/s]"
      ]
     },
     "metadata": {},
     "output_type": "display_data"
    },
    {
     "data": {
      "application/vnd.jupyter.widget-view+json": {
       "model_id": "e3e40684b27745c7a756a8511b502596",
       "version_major": 2,
       "version_minor": 0
      },
      "text/plain": [
       "special_tokens_map.json:   0%|          | 0.00/125 [00:00<?, ?B/s]"
      ]
     },
     "metadata": {},
     "output_type": "display_data"
    },
    {
     "data": {
      "application/vnd.jupyter.widget-view+json": {
       "model_id": "03c27bd08aa54bd68e3a06a753b02f30",
       "version_major": 2,
       "version_minor": 0
      },
      "text/plain": [
       "1_Pooling/config.json:   0%|          | 0.00/191 [00:00<?, ?B/s]"
      ]
     },
     "metadata": {},
     "output_type": "display_data"
    }
   ],
   "source": [
    "embed_model = HuggingFaceEmbedding(model_name=\"BAAI/bge-base-en-v1.5\")\n",
    "embed_model = HuggingFaceEmbedding(model_name=\"BAAI/bge-small-en-v1.5\")\n",
    "embed_model = HuggingFaceEmbedding(model_name=\"BAAI/bge-large-en-v1.5\")"
   ]
  },
  {
   "cell_type": "code",
   "execution_count": 4,
   "metadata": {},
   "outputs": [
    {
     "name": "stdout",
     "output_type": "stream",
     "text": [
      "hf hf1\n",
      "hf hf2\n",
      "hf hf3\n",
      "bedrock b1\n",
      "bedrock b2\n"
     ]
    }
   ],
   "source": [
    "hf_models = 'hf1,hf2,hf3'\n",
    "bedrock_models = 'b1,b2'\n",
    "\n",
    "models = {\n",
    "    \"hf\": hf_models.split(',') if hf_models else [],\n",
    "    \"bedrock\": bedrock_models.split(',') if bedrock_models else [],\n",
    "}\n",
    "\n",
    "for provider in models:\n",
    "    for model_id in models[provider]:\n",
    "        print(provider, model_id)"
   ]
  },
  {
   "cell_type": "code",
   "execution_count": 5,
   "metadata": {},
   "outputs": [],
   "source": [
    "documents = [\n",
    "    Document(text=\"main.customers\", metadata= {'description': \"This table has basic information about a customer, as well as some derived facts based on a customer's orders\", 'columns': 'customer_id,first_name,last_name,first_order,most_recent_order,number_of_orders,total_order_amount'} ),\n",
    "    Document(text=\"main.orders\", metadata= {'description': 'This table has basic information about orders, as well as some derived facts based on payments', 'columns': 'order_id,customer_id,order_date,status,amount,credit_card_amount,coupon_amount,bank_transfer_amount,gift_card_amount'} ),\n",
    "    Document(text=\"main.stg_customers\", metadata= {'description': '', 'columns': 'customer_id'} ),\n",
    "    Document(text=\"main.stg_orders\", metadata= {'description': '', 'columns': 'order_id,status'} ),\n",
    "    Document(text=\"main.stg_payments\", metadata= {'description': '', 'columns': 'payment_id,payment_method'} ),\n",
    "]"
   ]
  },
  {
   "cell_type": "code",
   "execution_count": 6,
   "metadata": {},
   "outputs": [],
   "source": [
    "vector_store = ChromaVectorStore(chroma_collection=chroma_collection)\n",
    "storage_context = StorageContext.from_defaults(vector_store=vector_store)\n",
    "index = VectorStoreIndex.from_documents(\n",
    "    documents, storage_context=storage_context, embed_model=embed_model\n",
    ")"
   ]
  },
  {
   "cell_type": "code",
   "execution_count": 7,
   "metadata": {},
   "outputs": [],
   "source": [
    "from llama_index.core.vector_stores.types import VectorStoreQuery\n",
    "q = index.vector_store.aquery(VectorStoreQuery(\n",
    "    query_str=\"customer\"\n",
    "))"
   ]
  },
  {
   "cell_type": "code",
   "execution_count": 8,
   "metadata": {},
   "outputs": [
    {
     "data": {
      "text/plain": [
       "[0.04045151546597481,\n",
       " -0.012893866747617722,\n",
       " -0.015111207962036133,\n",
       " 0.004921073094010353,\n",
       " 0.015513082966208458,\n",
       " -0.0205589160323143,\n",
       " 0.010152550414204597,\n",
       " -0.0032247796189039946,\n",
       " 0.026975609362125397,\n",
       " 0.03301788493990898,\n",
       " -0.014193070121109486,\n",
       " 0.00835871696472168,\n",
       " -0.010251120664179325,\n",
       " -0.0025073527358472347,\n",
       " -0.01074238121509552,\n",
       " -0.01812760904431343,\n",
       " -0.003558783559128642,\n",
       " 0.007882471196353436,\n",
       " -0.013915264047682285,\n",
       " -0.04287642240524292,\n",
       " 0.0007755251135677099,\n",
       " 0.015087230131030083,\n",
       " -0.027032693848013878,\n",
       " 0.014136053621768951,\n",
       " -0.028909843415021896,\n",
       " 0.017868727445602417,\n",
       " -0.024475548416376114,\n",
       " -0.02005559764802456,\n",
       " 0.031161800026893616,\n",
       " 0.03043859265744686,\n",
       " -0.044531118124723434,\n",
       " 0.0167362242937088,\n",
       " 0.010496780276298523,\n",
       " -0.053803157061338425,\n",
       " 0.014004425145685673,\n",
       " -0.016234593465924263,\n",
       " 0.018087266013026237,\n",
       " -0.036834366619586945,\n",
       " -0.0575566440820694,\n",
       " -0.050886187702417374,\n",
       " -0.03445335477590561,\n",
       " -0.01709936000406742,\n",
       " 0.08277081698179245,\n",
       " -0.016161423176527023,\n",
       " -0.04111867398023605,\n",
       " -0.004296565428376198,\n",
       " -0.023520629853010178,\n",
       " -0.03225594386458397,\n",
       " -0.03244583681225777,\n",
       " -0.05989035964012146,\n",
       " 0.04860837385058403,\n",
       " 0.003696282859891653,\n",
       " -0.0016418081941083074,\n",
       " -0.0023883122485131025,\n",
       " -0.018536921590566635,\n",
       " -0.07483409345149994,\n",
       " -0.0034328449983149767,\n",
       " -0.004612436983734369,\n",
       " -0.05051421746611595,\n",
       " 0.06318546831607819,\n",
       " 0.029635947197675705,\n",
       " 0.02750040777027607,\n",
       " 0.0059731751680374146,\n",
       " -0.027972275391221046,\n",
       " 0.027114171534776688,\n",
       " -0.00846388004720211,\n",
       " -0.03685986250638962,\n",
       " 0.019944343715906143,\n",
       " 0.03398725390434265,\n",
       " 0.025451982393860817,\n",
       " 0.002380801597610116,\n",
       " 0.0442284420132637,\n",
       " -0.0009854062227532268,\n",
       " -0.00041453991434536874,\n",
       " 0.0019767158664762974,\n",
       " 0.02960462123155594,\n",
       " -0.02404472976922989,\n",
       " -0.0343882218003273,\n",
       " -0.007043177727609873,\n",
       " 0.042002126574516296,\n",
       " -0.022346559911966324,\n",
       " 0.029669487848877907,\n",
       " 0.01090868841856718,\n",
       " -0.0055560278706252575,\n",
       " -0.03546277433633804,\n",
       " -0.03153664618730545,\n",
       " 0.026779990643262863,\n",
       " 0.02370556630194187,\n",
       " 0.007467648945748806,\n",
       " -0.007263303734362125,\n",
       " 0.02041107788681984,\n",
       " 0.03648603707551956,\n",
       " -0.00775215495377779,\n",
       " -0.010902815498411655,\n",
       " 0.028399590402841568,\n",
       " 0.025054505094885826,\n",
       " -0.0406363271176815,\n",
       " -0.007581585086882114,\n",
       " 0.01795225776731968,\n",
       " -0.015316096134483814,\n",
       " 0.0632188692688942,\n",
       " 0.01391051895916462,\n",
       " -0.01819550432264805,\n",
       " 0.05435628071427345,\n",
       " -0.042929694056510925,\n",
       " 0.05753142759203911,\n",
       " -0.003244649851694703,\n",
       " 0.0042937337420880795,\n",
       " -0.025862807407975197,\n",
       " -0.018561234697699547,\n",
       " -0.03549657389521599,\n",
       " -0.0011554185766726732,\n",
       " 0.006136189680546522,\n",
       " -0.015538182109594345,\n",
       " -0.020644092932343483,\n",
       " 0.05075336620211601,\n",
       " -0.0025698780082166195,\n",
       " 0.043113451451063156,\n",
       " -0.0450008250772953,\n",
       " -0.03959950432181358,\n",
       " 0.012282662093639374,\n",
       " 0.01908101513981819,\n",
       " 0.013297466561198235,\n",
       " -0.014524014666676521,\n",
       " 0.025561019778251648,\n",
       " -0.05830111727118492,\n",
       " -0.014682875014841557,\n",
       " 0.01284762006253004,\n",
       " -0.04051816090941429,\n",
       " -0.013844109140336514,\n",
       " 0.03423067927360535,\n",
       " 0.0028254413045942783,\n",
       " 0.047945309430360794,\n",
       " 0.015456879511475563,\n",
       " 0.001087602344341576,\n",
       " -0.006491524167358875,\n",
       " 0.04245879128575325,\n",
       " 0.021549589931964874,\n",
       " 0.0037740711122751236,\n",
       " 0.021420201286673546,\n",
       " 0.025606589391827583,\n",
       " -0.0347626619040966,\n",
       " 0.021488040685653687,\n",
       " 0.10971059650182724,\n",
       " 0.0085586654022336,\n",
       " 0.032135605812072754,\n",
       " -0.011295191943645477,\n",
       " 0.01714310608804226,\n",
       " -0.07413840293884277,\n",
       " 0.02051597833633423,\n",
       " -0.03662775456905365,\n",
       " 0.012826294638216496,\n",
       " 0.0174231119453907,\n",
       " 0.05023039132356644,\n",
       " 0.012450329959392548,\n",
       " 0.008372817188501358,\n",
       " -0.001452742493711412,\n",
       " 0.00866186898201704,\n",
       " -0.02880433015525341,\n",
       " 0.025002941489219666,\n",
       " -0.00834769755601883,\n",
       " 0.02501247636973858,\n",
       " -0.024129586294293404,\n",
       " 0.027321219444274902,\n",
       " -0.0064615523442626,\n",
       " 0.024436384439468384,\n",
       " 0.009767457842826843,\n",
       " 0.003533162409439683,\n",
       " 0.000643401057459414,\n",
       " -0.03877054154872894,\n",
       " 0.00629335455596447,\n",
       " 0.018115222454071045,\n",
       " 0.0068692052736878395,\n",
       " -0.0014937611995264888,\n",
       " 0.022630421444773674,\n",
       " 0.002685043727979064,\n",
       " 0.012936697341501713,\n",
       " -0.012976312078535557,\n",
       " 0.026359254494309425,\n",
       " 0.002654948504641652,\n",
       " 0.006757272873073816,\n",
       " 0.028907231986522675,\n",
       " 0.04025745391845703,\n",
       " 0.011172701604664326,\n",
       " 0.01860783062875271,\n",
       " 0.011676513589918613,\n",
       " -0.0008381286170333624,\n",
       " -0.008356308564543724,\n",
       " -0.040304094552993774,\n",
       " 0.010391874238848686,\n",
       " 0.02099144086241722,\n",
       " 0.02907332219183445,\n",
       " -0.030686769634485245,\n",
       " 0.00991184264421463,\n",
       " -0.04972842335700989,\n",
       " 0.019511139020323753,\n",
       " -0.03275338560342789,\n",
       " -0.01751742511987686,\n",
       " -0.00113716721534729,\n",
       " -0.05279843509197235,\n",
       " -0.038757290691137314,\n",
       " 0.02612910233438015,\n",
       " -0.017809079959988594,\n",
       " -0.004878774750977755,\n",
       " 0.006843088194727898,\n",
       " -0.03556012362241745,\n",
       " -0.010481712408363819,\n",
       " 0.018308382481336594,\n",
       " 0.029966942965984344,\n",
       " 0.0019944088999181986,\n",
       " 0.0328134261071682,\n",
       " -0.00032515820930711925,\n",
       " -0.04409007728099823,\n",
       " -0.013229436241090298,\n",
       " 0.033654291182756424,\n",
       " -0.0034766518510878086,\n",
       " -0.02372635528445244,\n",
       " 0.04330555722117424,\n",
       " -0.07236611098051071,\n",
       " -0.024301927536725998,\n",
       " -0.008234824985265732,\n",
       " 0.030805740505456924,\n",
       " -0.020724274218082428,\n",
       " 0.017498109489679337,\n",
       " -0.011587951332330704,\n",
       " -0.0255969800055027,\n",
       " 0.019093679264187813,\n",
       " 0.08221391588449478,\n",
       " -0.027552826330065727,\n",
       " -0.027038149535655975,\n",
       " -0.014133225195109844,\n",
       " -0.0036240562330931425,\n",
       " -0.017067471519112587,\n",
       " 0.057451918721199036,\n",
       " -0.023737654089927673,\n",
       " 0.039577141404151917,\n",
       " 0.045412808656692505,\n",
       " 0.009587662294507027,\n",
       " 0.013877155259251595,\n",
       " -0.001189409988000989,\n",
       " 0.0455755814909935,\n",
       " 0.0075803291983902454,\n",
       " 0.06309467554092407,\n",
       " -0.010794572532176971,\n",
       " -0.049609292298555374,\n",
       " 0.0189810860902071,\n",
       " 0.019797639921307564,\n",
       " 0.01071112509816885,\n",
       " -0.04029310122132301,\n",
       " 0.005865557584911585,\n",
       " -0.020368844270706177,\n",
       " 0.02796800434589386,\n",
       " 0.03569282963871956,\n",
       " 0.02223374880850315,\n",
       " -0.08406664431095123,\n",
       " -0.006136312149465084,\n",
       " 0.0314045324921608,\n",
       " 0.033462636172771454,\n",
       " -0.017630543559789658,\n",
       " -0.053950387984514236,\n",
       " -0.002443288452923298,\n",
       " 0.01861574687063694,\n",
       " 0.05749790742993355,\n",
       " -0.0016222671838477254,\n",
       " 0.028355807065963745,\n",
       " -0.04064704850316048,\n",
       " 0.04078937694430351,\n",
       " 0.01053796149790287,\n",
       " -0.013256358914077282,\n",
       " -0.024177629500627518,\n",
       " 0.0038786730729043484,\n",
       " -0.038759611546993256,\n",
       " -0.0774800106883049,\n",
       " 0.0025634262710809708,\n",
       " -0.016850333660840988,\n",
       " -0.0244365893304348,\n",
       " 0.03763249143958092,\n",
       " 0.00011062451085308567,\n",
       " 0.013805612921714783,\n",
       " -0.06099844351410866,\n",
       " 0.022917406633496284,\n",
       " -0.0034856179263442755,\n",
       " -0.030490485951304436,\n",
       " 0.020235804840922356,\n",
       " 0.018308699131011963,\n",
       " 0.009154951199889183,\n",
       " -0.008710071444511414,\n",
       " 0.011500694788992405,\n",
       " -0.020320553332567215,\n",
       " 0.01600324735045433,\n",
       " 0.018150556832551956,\n",
       " -0.007225323468446732,\n",
       " -0.012124558910727501,\n",
       " -0.07591327279806137,\n",
       " -0.01324160024523735,\n",
       " 0.00978138204663992,\n",
       " 0.003639150643721223,\n",
       " 0.037800416350364685,\n",
       " -0.05236293375492096,\n",
       " -0.021511808037757874,\n",
       " -0.03599344566464424,\n",
       " -0.005900093354284763,\n",
       " 0.04579698666930199,\n",
       " 0.006275543477386236,\n",
       " -0.020308993756771088,\n",
       " 0.05224424600601196,\n",
       " 0.010097798891365528,\n",
       " 0.01884298212826252,\n",
       " 0.015499267727136612,\n",
       " 0.013443468138575554,\n",
       " -0.0529143400490284,\n",
       " 0.02314174175262451,\n",
       " 0.012453993782401085,\n",
       " -0.017332954332232475,\n",
       " -0.04400293901562691,\n",
       " 0.06868143379688263,\n",
       " 0.06469465792179108,\n",
       " 0.037832170724868774,\n",
       " 0.006261556874960661,\n",
       " -0.014670312404632568,\n",
       " -0.012233179062604904,\n",
       " -0.010961268097162247,\n",
       " 0.008770788088440895,\n",
       " -0.006086152512580156,\n",
       " -0.019112927839159966,\n",
       " -0.006619085092097521,\n",
       " -0.01988999731838703,\n",
       " -0.0963226929306984,\n",
       " 0.0002753377484623343,\n",
       " -0.07493574917316437,\n",
       " -0.033573172986507416,\n",
       " -0.020627377554774284,\n",
       " -0.011906333267688751,\n",
       " 0.015515265055000782,\n",
       " -0.000444877048721537,\n",
       " 0.004282805602997541,\n",
       " 0.014041745103895664,\n",
       " -0.0375579372048378,\n",
       " 0.016581591218709946,\n",
       " 0.031020767986774445,\n",
       " 0.026111170649528503,\n",
       " -0.038860633969306946,\n",
       " -0.012506769970059395,\n",
       " 0.050013501197099686,\n",
       " 0.016557253897190094,\n",
       " -0.005838447250425816,\n",
       " 0.02797429822385311,\n",
       " -0.039601437747478485,\n",
       " -0.011176036670804024,\n",
       " -0.015783388167619705,\n",
       " 0.011130983009934425,\n",
       " 0.043285973370075226,\n",
       " -0.0009687455603852868,\n",
       " 0.01594708301126957,\n",
       " 0.02701636217534542,\n",
       " 0.08046922087669373,\n",
       " -0.019945703446865082,\n",
       " 0.027979442849755287,\n",
       " 0.003369184909388423,\n",
       " 0.031920142471790314,\n",
       " -0.012104003690183163,\n",
       " -0.020084673538804054,\n",
       " 0.022222233936190605,\n",
       " -0.03196025639772415,\n",
       " 0.012226494029164314,\n",
       " -0.0548575296998024,\n",
       " -0.010172814130783081,\n",
       " 0.010774760507047176,\n",
       " 0.03426780551671982,\n",
       " -0.03616628050804138,\n",
       " -0.012101894244551659,\n",
       " 0.008239395916461945,\n",
       " -0.02960665337741375,\n",
       " 0.01527904812246561,\n",
       " -0.04627355933189392,\n",
       " -0.05692548304796219,\n",
       " 0.037176501005887985,\n",
       " 8.178198913810775e-05,\n",
       " 0.004996392875909805,\n",
       " -0.03554559499025345,\n",
       " 0.02088508941233158,\n",
       " -0.04357970133423805,\n",
       " 0.004667161498218775,\n",
       " -0.011321954429149628,\n",
       " 0.010388998314738274,\n",
       " 0.02154073305428028,\n",
       " -0.02507595904171467,\n",
       " 0.04748624190688133,\n",
       " -0.03611603379249573,\n",
       " -0.0070916032418608665,\n",
       " 0.0145880663767457,\n",
       " -0.037168946117162704,\n",
       " -0.011300820857286453,\n",
       " -0.012110141105949879,\n",
       " -0.05872252956032753,\n",
       " -0.03134309872984886,\n",
       " 0.01194011326879263,\n",
       " 0.03095133602619171,\n",
       " 0.04880032688379288,\n",
       " -0.03747596591711044,\n",
       " -0.010784917511045933,\n",
       " 4.366563371149823e-05,\n",
       " 0.009370233863592148,\n",
       " 0.04027301073074341,\n",
       " -0.00046907609794288874,\n",
       " -0.00596991740167141,\n",
       " -0.02039038948714733,\n",
       " 0.03501046076416969,\n",
       " 0.04384852945804596,\n",
       " 0.03770563006401062,\n",
       " -0.036036085337400436,\n",
       " 0.01584453135728836,\n",
       " -0.026276910677552223,\n",
       " 0.04863381385803223,\n",
       " -0.020714281126856804,\n",
       " 0.0263239536434412,\n",
       " -0.028931664302945137,\n",
       " 0.004110127687454224,\n",
       " 0.023335017263889313,\n",
       " 0.025331536307930946,\n",
       " -0.003073260420933366,\n",
       " -0.05276671424508095,\n",
       " -0.02699207328259945,\n",
       " 0.041991449892520905,\n",
       " 0.08136345446109772,\n",
       " -0.03707559406757355,\n",
       " -0.002016780199483037,\n",
       " -0.015836400911211967,\n",
       " 0.02871895022690296,\n",
       " 0.04051760584115982,\n",
       " -0.01519847009330988,\n",
       " -0.05853141471743584,\n",
       " -0.0178997740149498,\n",
       " 0.009912315756082535,\n",
       " -0.046592798084020615,\n",
       " 0.016266169026494026,\n",
       " 0.057297658175230026,\n",
       " -0.04239552095532417,\n",
       " 0.014797530137002468,\n",
       " -0.03612491115927696,\n",
       " 0.010591978207230568,\n",
       " 0.014949069358408451,\n",
       " -0.014955081976950169,\n",
       " 0.006301563698798418,\n",
       " -0.011292359791696072,\n",
       " 0.013252652250230312,\n",
       " -0.01994679868221283,\n",
       " 0.026166532188653946,\n",
       " -0.012109745293855667,\n",
       " -0.015613134019076824,\n",
       " 0.01473980862647295,\n",
       " -0.05242099240422249,\n",
       " 0.023651568219065666,\n",
       " -0.0351325124502182,\n",
       " 0.012235401198267937,\n",
       " 0.027613017708063126,\n",
       " 0.0019100089557468891,\n",
       " 0.004922123160213232,\n",
       " 0.028294621035456657,\n",
       " 0.029523631557822227,\n",
       " 0.01043025590479374,\n",
       " 0.0180610753595829,\n",
       " 0.001742225605994463,\n",
       " -0.001666615717113018,\n",
       " -0.01270765159279108,\n",
       " 0.03185078501701355,\n",
       " 0.03395932912826538,\n",
       " -0.018736066296696663,\n",
       " 0.03882024809718132,\n",
       " 0.023511730134487152,\n",
       " 0.008643882349133492,\n",
       " 0.0030892668291926384,\n",
       " 0.04190881550312042,\n",
       " -0.0025560236535966396,\n",
       " 0.027032628655433655,\n",
       " -0.029625341296195984,\n",
       " 0.023491445928812027,\n",
       " -0.02411602810025215,\n",
       " -0.01670319214463234,\n",
       " 0.008352424018085003,\n",
       " -0.05482274293899536,\n",
       " 0.007376621011644602,\n",
       " 0.03736759349703789,\n",
       " 0.018401816487312317,\n",
       " -0.051450423896312714,\n",
       " -0.0660720020532608,\n",
       " -0.01059535052627325,\n",
       " 0.02205951325595379,\n",
       " 0.015218548476696014,\n",
       " 0.042142488062381744,\n",
       " -0.001392319449223578,\n",
       " 0.0043488359078764915,\n",
       " -0.04031871631741524,\n",
       " -0.04698975384235382,\n",
       " -0.05090538412332535,\n",
       " -0.02658659592270851,\n",
       " -0.02316989004611969,\n",
       " 0.01718304678797722,\n",
       " 0.04101407527923584,\n",
       " -0.00804049801081419,\n",
       " -0.001455815159715712,\n",
       " -0.03052908554673195,\n",
       " -0.036150917410850525,\n",
       " 0.042698293924331665,\n",
       " -0.03237989544868469,\n",
       " 0.014383596368134022,\n",
       " -0.02628885954618454,\n",
       " 0.012109917588531971,\n",
       " 0.046467676758766174,\n",
       " 0.043659940361976624,\n",
       " -0.005420692265033722,\n",
       " 0.03309817984700203,\n",
       " 0.013093499466776848,\n",
       " 0.03824639320373535,\n",
       " 0.031776346266269684,\n",
       " -0.001113357488065958,\n",
       " 0.020190391689538956,\n",
       " 0.06066114082932472,\n",
       " -0.02591167390346527,\n",
       " 0.025724023580551147,\n",
       " 0.0323653519153595,\n",
       " -0.049943022429943085,\n",
       " -0.011577671393752098,\n",
       " 0.007247329223901033,\n",
       " 0.015041454695165157,\n",
       " 0.03771994635462761,\n",
       " 0.02081494964659214,\n",
       " -0.02652755007147789,\n",
       " 0.012368285097181797,\n",
       " -0.09106320142745972,\n",
       " -0.012945122085511684,\n",
       " -0.0063124969601631165,\n",
       " -0.039224833250045776,\n",
       " -0.049937743693590164,\n",
       " 0.002178149065002799,\n",
       " -0.029434941709041595,\n",
       " 0.027164623141288757,\n",
       " 0.021568279713392258,\n",
       " 0.0006645528483204544,\n",
       " -0.006101682782173157,\n",
       " -0.0581313893198967,\n",
       " 0.022565390914678574,\n",
       " -0.03853003680706024,\n",
       " -0.014418683014810085,\n",
       " -0.04269568994641304,\n",
       " 0.005362979136407375,\n",
       " -0.01576138287782669,\n",
       " -0.0025532839354127645,\n",
       " -0.01587807573378086,\n",
       " -0.009394604712724686,\n",
       " -0.018795080482959747,\n",
       " 0.012123306281864643,\n",
       " 0.01567121036350727,\n",
       " 0.001969411736354232,\n",
       " -0.012776347808539867,\n",
       " -0.018688522279262543,\n",
       " -0.01185657549649477,\n",
       " -0.00981039647012949,\n",
       " -0.017597708851099014,\n",
       " 0.05646676942706108,\n",
       " -0.0556044839322567,\n",
       " 0.04437585175037384,\n",
       " -0.04200500249862671,\n",
       " -0.02713598497211933,\n",
       " -0.030998799949884415,\n",
       " -0.024178696796298027,\n",
       " -0.03533164784312248,\n",
       " 0.030224617570638657,\n",
       " 0.04157184809446335,\n",
       " -0.02338295429944992,\n",
       " 0.0031747594475746155,\n",
       " -0.008209697902202606,\n",
       " 0.009566408582031727,\n",
       " 0.05533243715763092,\n",
       " -0.005515657365322113,\n",
       " -0.027309475466609,\n",
       " -0.05158771947026253,\n",
       " -0.023114530369639397,\n",
       " -0.011863697320222855,\n",
       " -0.01240998413413763,\n",
       " 0.0014555013040080667,\n",
       " -0.030111627653241158,\n",
       " -0.011530047282576561,\n",
       " -0.009644027799367905,\n",
       " 0.0006368969334289432,\n",
       " -0.04981077089905739,\n",
       " 0.01967395469546318,\n",
       " 0.08972874283790588,\n",
       " 0.011207601986825466,\n",
       " 0.021792249754071236,\n",
       " -0.04154199734330177,\n",
       " 0.0549149326980114,\n",
       " 0.044275037944316864,\n",
       " -0.03646017611026764,\n",
       " -0.022223439067602158,\n",
       " 0.014668460935354233,\n",
       " -0.037448134273290634,\n",
       " -0.0481511652469635,\n",
       " 0.03037869930267334,\n",
       " -0.004299292806535959,\n",
       " -0.01908361352980137,\n",
       " 0.04968901351094246,\n",
       " 0.03792239725589752,\n",
       " -0.019887559115886688,\n",
       " 0.030764732509851456,\n",
       " -0.004865380935370922,\n",
       " -0.08590010553598404,\n",
       " -0.023639237508177757,\n",
       " 0.030255882069468498,\n",
       " 0.0219486802816391,\n",
       " 0.03404996544122696,\n",
       " 0.03903878480195999,\n",
       " -0.02722020633518696,\n",
       " -0.04554533213376999,\n",
       " 0.019797077402472496,\n",
       " -0.00687013752758503,\n",
       " -0.022146495059132576,\n",
       " -0.07297446578741074,\n",
       " 0.037313368171453476,\n",
       " 0.018226634711027145,\n",
       " -0.04595144838094711,\n",
       " 0.021013814955949783,\n",
       " 0.013328250497579575,\n",
       " 0.005284982267767191,\n",
       " -0.0913669690489769,\n",
       " -0.029754148796200752,\n",
       " -0.02320774830877781,\n",
       " -0.07576495409011841,\n",
       " -0.0100024975836277,\n",
       " 0.018888238817453384,\n",
       " 0.0025895615108311176,\n",
       " -0.054544515907764435,\n",
       " 0.010747495107352734,\n",
       " -0.033035121858119965,\n",
       " 0.011418943293392658,\n",
       " 0.03236551955342293,\n",
       " -0.0138477748259902,\n",
       " 0.025288885459303856,\n",
       " -0.023537706583738327,\n",
       " -0.009907555766403675,\n",
       " 0.035067811608314514,\n",
       " -0.025712745264172554,\n",
       " 0.020018337294459343,\n",
       " -0.034107357263565063,\n",
       " 0.012023447081446648,\n",
       " -0.023701541125774384,\n",
       " 0.04831048473715782,\n",
       " 0.03166443109512329,\n",
       " -0.0022767181508243084,\n",
       " 0.00445693451911211,\n",
       " 0.03137243166565895,\n",
       " 0.024002287536859512,\n",
       " 0.0798022598028183,\n",
       " 0.014253324829041958,\n",
       " 0.018647784367203712,\n",
       " 0.021755367517471313,\n",
       " -0.03472066670656204,\n",
       " -0.0016148451250046492,\n",
       " 0.014123782515525818,\n",
       " 0.03591666370630264,\n",
       " -0.03994336724281311,\n",
       " -0.0117673110216856,\n",
       " -0.05215323343873024,\n",
       " 0.04262464493513107,\n",
       " 0.039254460483789444,\n",
       " 0.030980749055743217,\n",
       " -0.032298870384693146,\n",
       " -0.008126777596771717,\n",
       " -0.004441118333488703,\n",
       " -0.029802853241562843,\n",
       " -0.031647492200136185,\n",
       " -0.025539536029100418,\n",
       " -0.02658911608159542,\n",
       " -0.0018417062237858772,\n",
       " 0.021007509902119637,\n",
       " -0.024750573560595512,\n",
       " -0.021470077335834503,\n",
       " -0.03481503948569298,\n",
       " 0.012082025408744812,\n",
       " 0.000623140309471637,\n",
       " 0.01740553230047226,\n",
       " -0.03668608516454697,\n",
       " 0.07533008605241776,\n",
       " -0.023919567465782166,\n",
       " -0.012021953240036964,\n",
       " -0.04130430892109871,\n",
       " 0.012766905128955841,\n",
       " -0.018386024981737137,\n",
       " 0.029302584007382393,\n",
       " -0.0498180165886879,\n",
       " -0.025134151801466942,\n",
       " -0.04629203677177429,\n",
       " 0.005731535609811544,\n",
       " 0.004216349683701992,\n",
       " -0.013054074719548225,\n",
       " -0.0050756195560097694,\n",
       " -0.004749723710119724,\n",
       " -0.0055167824029922485,\n",
       " -0.002695770701393485,\n",
       " -0.039870116859674454,\n",
       " 0.018891120329499245,\n",
       " -0.00044847672688774765,\n",
       " -0.011793255805969238,\n",
       " 0.0025690123438835144,\n",
       " 0.011248266324400902,\n",
       " 0.009906196035444736,\n",
       " -0.022644340991973877,\n",
       " -0.0026171898934990168,\n",
       " 0.00031162193045020103,\n",
       " 0.0020432807505130768,\n",
       " -0.006191004533320665,\n",
       " -0.025881346315145493,\n",
       " 0.015878261998295784,\n",
       " -0.05635466426610947,\n",
       " -0.008516892790794373,\n",
       " 0.013330858200788498,\n",
       " -0.003915952518582344,\n",
       " -0.01612565666437149,\n",
       " 0.03714495897293091,\n",
       " 0.0045945048332214355,\n",
       " 0.028223812580108643,\n",
       " -0.02261512540280819,\n",
       " 0.03145826235413551,\n",
       " 0.005419848021119833,\n",
       " 0.015302455052733421,\n",
       " 0.04810105636715889,\n",
       " 0.017512651160359383,\n",
       " 0.002536988351494074,\n",
       " -0.01750745065510273,\n",
       " 0.018056636676192284,\n",
       " -0.023196449503302574,\n",
       " -0.008583041839301586,\n",
       " 0.11394244432449341,\n",
       " -0.02423984557390213,\n",
       " 0.006972988601773977,\n",
       " -0.020360510796308517,\n",
       " -0.0050889840349555016,\n",
       " -0.06817003339529037,\n",
       " -0.021172424778342247,\n",
       " -0.02393152378499508,\n",
       " 0.037977058440446854,\n",
       " 0.07013852149248123,\n",
       " -0.017744366079568863,\n",
       " 0.028699496760964394,\n",
       " -0.009658622555434704,\n",
       " -0.043514084070920944,\n",
       " -0.027251651510596275,\n",
       " -0.07961137592792511,\n",
       " -0.05422630161046982,\n",
       " 0.009358389303088188,\n",
       " 0.016340672969818115,\n",
       " 0.018322864547371864,\n",
       " -0.020240802317857742,\n",
       " -0.03463210165500641,\n",
       " -0.0036963168531656265,\n",
       " -0.011752170510590076,\n",
       " -0.011782323010265827,\n",
       " 0.019694162532687187,\n",
       " -0.019882120192050934,\n",
       " 0.007565147243440151,\n",
       " 0.016573647037148476,\n",
       " -0.014209814369678497,\n",
       " -0.019048528745770454,\n",
       " 0.0005023100529797375,\n",
       " 0.014998259954154491,\n",
       " -0.03165895864367485,\n",
       " -0.03160901367664337,\n",
       " -0.005200608633458614,\n",
       " -0.0016120083164423704,\n",
       " -0.02921096421778202,\n",
       " 0.006773959845304489,\n",
       " -0.035868771374225616,\n",
       " 0.008246838115155697,\n",
       " -0.036184486001729965,\n",
       " -0.00013411456893663853,\n",
       " 0.01943928748369217,\n",
       " 0.053428273648023605,\n",
       " -0.024576198309659958,\n",
       " 0.02290215529501438,\n",
       " -0.02301465906202793,\n",
       " 0.03257669880986214,\n",
       " -0.023663856089115143,\n",
       " 0.02574591152369976,\n",
       " -0.005160017870366573,\n",
       " -0.020310228690505028,\n",
       " -0.014758697710931301,\n",
       " 0.04588933661580086,\n",
       " 0.03242314234375954,\n",
       " 0.005168096162378788,\n",
       " -0.009705863893032074,\n",
       " 0.047953955829143524,\n",
       " 0.04180443286895752,\n",
       " -0.008603841997683048,\n",
       " -0.037108711898326874,\n",
       " -0.034890010952949524,\n",
       " 0.05120551958680153,\n",
       " 0.04899657890200615,\n",
       " 0.04522857069969177,\n",
       " -0.02464105375111103,\n",
       " 0.02106018364429474,\n",
       " 0.030109411105513573,\n",
       " 0.013063866645097733,\n",
       " 3.6539822758641094e-06,\n",
       " -0.01608375273644924,\n",
       " 0.03898439183831215,\n",
       " -0.012387056834995747,\n",
       " 0.026995178312063217,\n",
       " -0.023006737232208252,\n",
       " -0.007459566928446293,\n",
       " 0.014419528655707836,\n",
       " -0.0032671168446540833,\n",
       " 0.008253207430243492,\n",
       " -0.030078446492552757,\n",
       " -0.03633533790707588,\n",
       " -0.004160559736192226,\n",
       " -0.010278097353875637,\n",
       " -0.006002524867653847,\n",
       " -0.010985600762069225,\n",
       " -0.041110336780548096,\n",
       " -0.015217514708638191,\n",
       " -0.021037345752120018,\n",
       " 0.006578547414392233,\n",
       " 0.04956487566232681,\n",
       " 0.01880713738501072,\n",
       " -0.06366728991270065,\n",
       " 0.03275918588042259,\n",
       " 0.03140047937631607,\n",
       " 0.039131175726652145,\n",
       " -0.0004610059841070324,\n",
       " 0.011314015835523605,\n",
       " -0.0036932597868144512,\n",
       " -0.06260555982589722,\n",
       " -0.003936423920094967,\n",
       " 0.01872989721596241,\n",
       " -0.02111579105257988,\n",
       " -0.0070396470837295055,\n",
       " 0.017993086948990822,\n",
       " -0.05023690685629845,\n",
       " 0.011126246303319931,\n",
       " -0.031049760058522224,\n",
       " 0.05449216812849045,\n",
       " 0.05112769454717636,\n",
       " -0.02794453874230385,\n",
       " 0.011055252514779568,\n",
       " -0.027832701802253723,\n",
       " 0.025725429877638817,\n",
       " -0.014590396545827389,\n",
       " 0.0269862599670887,\n",
       " 0.011515042744576931,\n",
       " -0.027790255844593048,\n",
       " -0.033663131296634674,\n",
       " 0.01863926462829113,\n",
       " -0.023261461406946182,\n",
       " 0.006672309245914221,\n",
       " -0.0034742357674986124,\n",
       " 0.029223067685961723,\n",
       " -0.02676927112042904,\n",
       " 0.01030496135354042,\n",
       " 0.03496505320072174,\n",
       " -0.015255728736519814,\n",
       " -0.02938908338546753,\n",
       " 0.032107241451740265,\n",
       " -0.0033771018497645855,\n",
       " 0.005985985044389963,\n",
       " 0.025552567094564438,\n",
       " -0.03566708788275719,\n",
       " -0.0427570678293705,\n",
       " -0.0019133820896968246,\n",
       " -0.006495037581771612,\n",
       " -0.02060908079147339,\n",
       " 0.06557132303714752,\n",
       " 0.05971875041723251,\n",
       " -0.05080400034785271,\n",
       " 0.0068588354624807835,\n",
       " 0.02993910014629364,\n",
       " -0.02837328240275383,\n",
       " 0.05535535141825676,\n",
       " 0.02577889710664749,\n",
       " 0.011354196816682816,\n",
       " -0.00570467347279191,\n",
       " -0.023900801315903664,\n",
       " -0.0006722669932059944,\n",
       " -0.0007995641208253801,\n",
       " 0.03927822411060333,\n",
       " -0.03717780113220215,\n",
       " 0.03501389920711517,\n",
       " 0.03808803856372833,\n",
       " -0.04846157878637314,\n",
       " -0.05541030690073967,\n",
       " -0.005692055448889732,\n",
       " -0.014534763060510159,\n",
       " 0.00030659709591418505,\n",
       " -0.017402345314621925,\n",
       " -0.03609573468565941,\n",
       " -0.054866474121809006,\n",
       " -0.030307834967970848,\n",
       " 0.01888415589928627,\n",
       " 0.01670086942613125,\n",
       " -0.011110459454357624,\n",
       " 0.008231507614254951,\n",
       " 0.04786904901266098,\n",
       " 0.0907866433262825,\n",
       " -0.004285580478608608,\n",
       " 0.07679030299186707,\n",
       " -0.0024993158876895905,\n",
       " 0.018092814832925797,\n",
       " -0.013784419745206833,\n",
       " 0.01481932308524847,\n",
       " -0.02276942878961563,\n",
       " 0.022591253742575645,\n",
       " 0.0033954696264117956,\n",
       " 0.06544850021600723,\n",
       " 0.029837993904948235,\n",
       " -0.016251549124717712,\n",
       " -0.04843264818191528,\n",
       " 0.0005751413409598172,\n",
       " 0.03224419802427292,\n",
       " 0.023200636729598045,\n",
       " -0.0048806811682879925,\n",
       " -0.037177108228206635,\n",
       " -0.054642461240291595,\n",
       " -0.03841201588511467,\n",
       " -0.017603930085897446,\n",
       " -0.014992767944931984,\n",
       " 0.02633078396320343,\n",
       " -0.002839297754690051,\n",
       " 0.030760277062654495,\n",
       " 0.009348073042929173,\n",
       " -0.03079836629331112,\n",
       " 0.24884630739688873,\n",
       " 0.041455138474702835,\n",
       " 0.007995259948074818,\n",
       " 0.00045805913396179676,\n",
       " 0.002325389999896288,\n",
       " 0.0037929886020720005,\n",
       " 0.004059848375618458,\n",
       " -0.017472222447395325,\n",
       " 0.030520126223564148,\n",
       " -0.025789184495806694,\n",
       " 0.01505440752953291,\n",
       " -0.019304057583212852,\n",
       " -0.019344208762049675,\n",
       " 0.0371624231338501,\n",
       " -0.009444573894143105,\n",
       " 0.014268333092331886,\n",
       " -0.03539615124464035,\n",
       " 0.00840228982269764,\n",
       " -0.010108797810971737,\n",
       " 0.0018995784921571612,\n",
       " -0.007186741568148136,\n",
       " -0.0032268313225358725,\n",
       " 0.0034318717662245035,\n",
       " 0.02640547603368759,\n",
       " -0.019216567277908325,\n",
       " -0.01234485860913992,\n",
       " 0.0651775598526001,\n",
       " -0.042016319930553436,\n",
       " 0.006250940728932619,\n",
       " -0.032514818012714386,\n",
       " 0.02282453142106533,\n",
       " -0.01978306844830513,\n",
       " 0.026024358347058296,\n",
       " -0.013422386720776558,\n",
       " -0.027881545946002007,\n",
       " 0.011156781576573849,\n",
       " 0.04792843386530876,\n",
       " -0.022004136815667152,\n",
       " -0.003879459807649255,\n",
       " -0.005203313194215298,\n",
       " -0.008150187321007252,\n",
       " 0.011722059920430183,\n",
       " 0.0005942607531324029,\n",
       " 0.020393822342157364,\n",
       " -0.042615264654159546,\n",
       " -0.028667399659752846,\n",
       " 0.010719767771661282,\n",
       " 0.018218882381916046,\n",
       " -0.021995577961206436,\n",
       " 0.010204576887190342,\n",
       " 0.08598734438419342,\n",
       " -0.0327015146613121,\n",
       " 0.023946838453412056,\n",
       " -0.021450510248541832,\n",
       " -0.05225875601172447,\n",
       " -0.006060115527361631,\n",
       " 0.01165012363344431,\n",
       " -0.03864709660410881,\n",
       " -0.009234793484210968,\n",
       " 0.0013066293904557824,\n",
       " 0.003420877270400524,\n",
       " 0.05142667517066002,\n",
       " -0.0002515309024602175,\n",
       " 0.011703354306519032,\n",
       " -0.016674555838108063,\n",
       " 0.044685669243335724,\n",
       " 0.01253340020775795,\n",
       " 0.03535865247249603,\n",
       " -0.027557604014873505,\n",
       " 0.014145098626613617,\n",
       " 0.0032342742197215557,\n",
       " ...]"
      ]
     },
     "execution_count": 8,
     "metadata": {},
     "output_type": "execute_result"
    }
   ],
   "source": [
    "embed_model.get_query_embedding(\"customer\")"
   ]
  },
  {
   "cell_type": "markdown",
   "metadata": {},
   "source": [
    "# Save to disk"
   ]
  },
  {
   "cell_type": "code",
   "execution_count": 9,
   "metadata": {},
   "outputs": [],
   "source": [
    "db = chromadb.PersistentClient(path=\"./chroma_db\")\n",
    "chroma_collection = db.get_or_create_collection(\"quickstart\")\n",
    "vector_store = ChromaVectorStore(chroma_collection=chroma_collection)"
   ]
  },
  {
   "cell_type": "code",
   "execution_count": 10,
   "metadata": {},
   "outputs": [],
   "source": [
    "storage_context = StorageContext.from_defaults(vector_store=vector_store)\n",
    "\n",
    "index = VectorStoreIndex.from_documents(\n",
    "    documents, storage_context=storage_context, embed_model=embed_model\n",
    ")"
   ]
  },
  {
   "cell_type": "markdown",
   "metadata": {},
   "source": [
    "# Load from disk"
   ]
  },
  {
   "cell_type": "code",
   "execution_count": 11,
   "metadata": {},
   "outputs": [],
   "source": [
    "# load from disk\n",
    "db2 = chromadb.PersistentClient(path=\"./chroma_db\")\n",
    "chroma_collection = db2.get_or_create_collection(\"quickstart\")\n",
    "vector_store = ChromaVectorStore(chroma_collection=chroma_collection)\n",
    "index = VectorStoreIndex.from_vector_store(\n",
    "    vector_store,\n",
    "    embed_model=embed_model,\n",
    ")"
   ]
  },
  {
   "cell_type": "markdown",
   "metadata": {},
   "source": [
    "# Query"
   ]
  },
  {
   "cell_type": "code",
   "execution_count": 12,
   "metadata": {},
   "outputs": [
    {
     "data": {
      "text/plain": [
       "5"
      ]
     },
     "execution_count": 12,
     "metadata": {},
     "output_type": "execute_result"
    }
   ],
   "source": [
    "chroma_collection.count()"
   ]
  },
  {
   "cell_type": "code",
   "execution_count": 13,
   "metadata": {},
   "outputs": [
    {
     "name": "stderr",
     "output_type": "stream",
     "text": [
      "Number of requested results 10 is greater than number of elements in index 5, updating n_results = 5\n"
     ]
    }
   ],
   "source": [
    "query_response = chroma_collection.query(\n",
    "    query_embeddings=[\n",
    "        embed_model.get_query_embedding(\"customer\")\n",
    "    ],\n",
    "    n_results=10,\n",
    ")\n",
    "# https://docs.trychroma.com/getting-started"
   ]
  },
  {
   "cell_type": "code",
   "execution_count": 14,
   "metadata": {},
   "outputs": [
    {
     "data": {
      "text/plain": [
       "{'ids': [['bd972ef8-89f5-40d8-8c3f-3afdab30dc13',\n",
       "   '6f836389-0d06-41e3-b46f-a40bafe6857e',\n",
       "   'c5e09052-51ce-40d2-b89a-5d3c76e2ab4d',\n",
       "   '73a6337b-732d-49e3-8bda-92fd8fc66c42',\n",
       "   'aa9070fd-262e-4841-b266-c7d29562ee4e']],\n",
       " 'distances': [[0.5881536435133103,\n",
       "   0.683094389258029,\n",
       "   0.8614222646841738,\n",
       "   0.877496233888225,\n",
       "   0.8890770438712547]],\n",
       " 'metadatas': [[{'_node_content': '{\"id_\": \"bd972ef8-89f5-40d8-8c3f-3afdab30dc13\", \"embedding\": null, \"metadata\": {\"description\": \"\", \"columns\": \"customer_id\"}, \"excluded_embed_metadata_keys\": [], \"excluded_llm_metadata_keys\": [], \"relationships\": {\"1\": {\"node_id\": \"25559a4e-dd69-4345-a89e-d4540817d01e\", \"node_type\": \"4\", \"metadata\": {\"description\": \"\", \"columns\": \"customer_id\"}, \"hash\": \"0c08895b73233902cae936b21232cb03eea08d9145f2a379adaa7e090d205ace\", \"class_name\": \"RelatedNodeInfo\"}}, \"text\": \"\", \"start_char_idx\": 0, \"end_char_idx\": 18, \"text_template\": \"{metadata_str}\\\\n\\\\n{content}\", \"metadata_template\": \"{key}: {value}\", \"metadata_seperator\": \"\\\\n\", \"class_name\": \"TextNode\"}',\n",
       "    '_node_type': 'TextNode',\n",
       "    'columns': 'customer_id',\n",
       "    'description': '',\n",
       "    'doc_id': '25559a4e-dd69-4345-a89e-d4540817d01e',\n",
       "    'document_id': '25559a4e-dd69-4345-a89e-d4540817d01e',\n",
       "    'ref_doc_id': '25559a4e-dd69-4345-a89e-d4540817d01e'},\n",
       "   {'_node_content': '{\"id_\": \"6f836389-0d06-41e3-b46f-a40bafe6857e\", \"embedding\": null, \"metadata\": {\"description\": \"This table has basic information about a customer, as well as some derived facts based on a customer\\'s orders\", \"columns\": \"customer_id,first_name,last_name,first_order,most_recent_order,number_of_orders,total_order_amount\"}, \"excluded_embed_metadata_keys\": [], \"excluded_llm_metadata_keys\": [], \"relationships\": {\"1\": {\"node_id\": \"f89a5466-af7c-4f71-92dd-75167879a77d\", \"node_type\": \"4\", \"metadata\": {\"description\": \"This table has basic information about a customer, as well as some derived facts based on a customer\\'s orders\", \"columns\": \"customer_id,first_name,last_name,first_order,most_recent_order,number_of_orders,total_order_amount\"}, \"hash\": \"8fab84d152d6deede018715ffdbe8949e776d9513f9e2a341f2c5d1b625d57d5\", \"class_name\": \"RelatedNodeInfo\"}}, \"text\": \"\", \"start_char_idx\": 0, \"end_char_idx\": 14, \"text_template\": \"{metadata_str}\\\\n\\\\n{content}\", \"metadata_template\": \"{key}: {value}\", \"metadata_seperator\": \"\\\\n\", \"class_name\": \"TextNode\"}',\n",
       "    '_node_type': 'TextNode',\n",
       "    'columns': 'customer_id,first_name,last_name,first_order,most_recent_order,number_of_orders,total_order_amount',\n",
       "    'description': \"This table has basic information about a customer, as well as some derived facts based on a customer's orders\",\n",
       "    'doc_id': 'f89a5466-af7c-4f71-92dd-75167879a77d',\n",
       "    'document_id': 'f89a5466-af7c-4f71-92dd-75167879a77d',\n",
       "    'ref_doc_id': 'f89a5466-af7c-4f71-92dd-75167879a77d'},\n",
       "   {'_node_content': '{\"id_\": \"c5e09052-51ce-40d2-b89a-5d3c76e2ab4d\", \"embedding\": null, \"metadata\": {\"description\": \"\", \"columns\": \"payment_id,payment_method\"}, \"excluded_embed_metadata_keys\": [], \"excluded_llm_metadata_keys\": [], \"relationships\": {\"1\": {\"node_id\": \"afdeefcb-e8e0-479d-aebc-5c053d366a26\", \"node_type\": \"4\", \"metadata\": {\"description\": \"\", \"columns\": \"payment_id,payment_method\"}, \"hash\": \"e732cd6bd4577eff42a2461e5cad8d22db7b3afa5264b0f06827db5ba1542bd7\", \"class_name\": \"RelatedNodeInfo\"}}, \"text\": \"\", \"start_char_idx\": 0, \"end_char_idx\": 17, \"text_template\": \"{metadata_str}\\\\n\\\\n{content}\", \"metadata_template\": \"{key}: {value}\", \"metadata_seperator\": \"\\\\n\", \"class_name\": \"TextNode\"}',\n",
       "    '_node_type': 'TextNode',\n",
       "    'columns': 'payment_id,payment_method',\n",
       "    'description': '',\n",
       "    'doc_id': 'afdeefcb-e8e0-479d-aebc-5c053d366a26',\n",
       "    'document_id': 'afdeefcb-e8e0-479d-aebc-5c053d366a26',\n",
       "    'ref_doc_id': 'afdeefcb-e8e0-479d-aebc-5c053d366a26'},\n",
       "   {'_node_content': '{\"id_\": \"73a6337b-732d-49e3-8bda-92fd8fc66c42\", \"embedding\": null, \"metadata\": {\"description\": \"\", \"columns\": \"order_id,status\"}, \"excluded_embed_metadata_keys\": [], \"excluded_llm_metadata_keys\": [], \"relationships\": {\"1\": {\"node_id\": \"e92c12ed-049a-407b-b55e-fe03a69cdda5\", \"node_type\": \"4\", \"metadata\": {\"description\": \"\", \"columns\": \"order_id,status\"}, \"hash\": \"82d10fb9c55efbc19684fa82e7bf1711f4f5f1e0c3d7303661e0b1ce18d87eb1\", \"class_name\": \"RelatedNodeInfo\"}}, \"text\": \"\", \"start_char_idx\": 0, \"end_char_idx\": 15, \"text_template\": \"{metadata_str}\\\\n\\\\n{content}\", \"metadata_template\": \"{key}: {value}\", \"metadata_seperator\": \"\\\\n\", \"class_name\": \"TextNode\"}',\n",
       "    '_node_type': 'TextNode',\n",
       "    'columns': 'order_id,status',\n",
       "    'description': '',\n",
       "    'doc_id': 'e92c12ed-049a-407b-b55e-fe03a69cdda5',\n",
       "    'document_id': 'e92c12ed-049a-407b-b55e-fe03a69cdda5',\n",
       "    'ref_doc_id': 'e92c12ed-049a-407b-b55e-fe03a69cdda5'},\n",
       "   {'_node_content': '{\"id_\": \"aa9070fd-262e-4841-b266-c7d29562ee4e\", \"embedding\": null, \"metadata\": {\"description\": \"This table has basic information about orders, as well as some derived facts based on payments\", \"columns\": \"order_id,customer_id,order_date,status,amount,credit_card_amount,coupon_amount,bank_transfer_amount,gift_card_amount\"}, \"excluded_embed_metadata_keys\": [], \"excluded_llm_metadata_keys\": [], \"relationships\": {\"1\": {\"node_id\": \"f4a31b95-1bcb-47f1-94f9-9139b2e35195\", \"node_type\": \"4\", \"metadata\": {\"description\": \"This table has basic information about orders, as well as some derived facts based on payments\", \"columns\": \"order_id,customer_id,order_date,status,amount,credit_card_amount,coupon_amount,bank_transfer_amount,gift_card_amount\"}, \"hash\": \"643db736abea57f0ef22c3a2c3283e367cbbc436581e48cf3fd10eb2226b5bd3\", \"class_name\": \"RelatedNodeInfo\"}}, \"text\": \"\", \"start_char_idx\": 0, \"end_char_idx\": 11, \"text_template\": \"{metadata_str}\\\\n\\\\n{content}\", \"metadata_template\": \"{key}: {value}\", \"metadata_seperator\": \"\\\\n\", \"class_name\": \"TextNode\"}',\n",
       "    '_node_type': 'TextNode',\n",
       "    'columns': 'order_id,customer_id,order_date,status,amount,credit_card_amount,coupon_amount,bank_transfer_amount,gift_card_amount',\n",
       "    'description': 'This table has basic information about orders, as well as some derived facts based on payments',\n",
       "    'doc_id': 'f4a31b95-1bcb-47f1-94f9-9139b2e35195',\n",
       "    'document_id': 'f4a31b95-1bcb-47f1-94f9-9139b2e35195',\n",
       "    'ref_doc_id': 'f4a31b95-1bcb-47f1-94f9-9139b2e35195'}]],\n",
       " 'embeddings': None,\n",
       " 'documents': [['main.stg_customers',\n",
       "   'main.customers',\n",
       "   'main.stg_payments',\n",
       "   'main.stg_orders',\n",
       "   'main.orders']],\n",
       " 'uris': None,\n",
       " 'data': None}"
      ]
     },
     "execution_count": 14,
     "metadata": {},
     "output_type": "execute_result"
    }
   ],
   "source": [
    "query_response"
   ]
  },
  {
   "cell_type": "code",
   "execution_count": 15,
   "metadata": {},
   "outputs": [
    {
     "data": {
      "text/plain": [
       "dict_keys(['ids', 'distances', 'metadatas', 'embeddings', 'documents', 'uris', 'data'])"
      ]
     },
     "execution_count": 15,
     "metadata": {},
     "output_type": "execute_result"
    }
   ],
   "source": [
    "query_response.keys()"
   ]
  },
  {
   "cell_type": "code",
   "execution_count": 16,
   "metadata": {},
   "outputs": [
    {
     "data": {
      "text/plain": [
       "[[0.5881536435133103,\n",
       "  0.683094389258029,\n",
       "  0.8614222646841738,\n",
       "  0.877496233888225,\n",
       "  0.8890770438712547]]"
      ]
     },
     "execution_count": 16,
     "metadata": {},
     "output_type": "execute_result"
    }
   ],
   "source": [
    "query_response['distances']"
   ]
  },
  {
   "cell_type": "code",
   "execution_count": 17,
   "metadata": {},
   "outputs": [
    {
     "data": {
      "text/plain": [
       "'{\"id_\": \"6f836389-0d06-41e3-b46f-a40bafe6857e\", \"embedding\": null, \"metadata\": {\"description\": \"This table has basic information about a customer, as well as some derived facts based on a customer\\'s orders\", \"columns\": \"customer_id,first_name,last_name,first_order,most_recent_order,number_of_orders,total_order_amount\"}, \"excluded_embed_metadata_keys\": [], \"excluded_llm_metadata_keys\": [], \"relationships\": {\"1\": {\"node_id\": \"f89a5466-af7c-4f71-92dd-75167879a77d\", \"node_type\": \"4\", \"metadata\": {\"description\": \"This table has basic information about a customer, as well as some derived facts based on a customer\\'s orders\", \"columns\": \"customer_id,first_name,last_name,first_order,most_recent_order,number_of_orders,total_order_amount\"}, \"hash\": \"8fab84d152d6deede018715ffdbe8949e776d9513f9e2a341f2c5d1b625d57d5\", \"class_name\": \"RelatedNodeInfo\"}}, \"text\": \"\", \"start_char_idx\": 0, \"end_char_idx\": 14, \"text_template\": \"{metadata_str}\\\\n\\\\n{content}\", \"metadata_template\": \"{key}: {value}\", \"metadata_seperator\": \"\\\\n\", \"class_name\": \"TextNode\"}'"
      ]
     },
     "execution_count": 17,
     "metadata": {},
     "output_type": "execute_result"
    }
   ],
   "source": [
    "query_response['metadatas'][0][1]['_node_content']"
   ]
  },
  {
   "cell_type": "code",
   "execution_count": 18,
   "metadata": {},
   "outputs": [],
   "source": [
    "import json"
   ]
  },
  {
   "cell_type": "code",
   "execution_count": 19,
   "metadata": {},
   "outputs": [
    {
     "data": {
      "text/plain": [
       "{'id_': '6f836389-0d06-41e3-b46f-a40bafe6857e',\n",
       " 'embedding': None,\n",
       " 'metadata': {'description': \"This table has basic information about a customer, as well as some derived facts based on a customer's orders\",\n",
       "  'columns': 'customer_id,first_name,last_name,first_order,most_recent_order,number_of_orders,total_order_amount'},\n",
       " 'excluded_embed_metadata_keys': [],\n",
       " 'excluded_llm_metadata_keys': [],\n",
       " 'relationships': {'1': {'node_id': 'f89a5466-af7c-4f71-92dd-75167879a77d',\n",
       "   'node_type': '4',\n",
       "   'metadata': {'description': \"This table has basic information about a customer, as well as some derived facts based on a customer's orders\",\n",
       "    'columns': 'customer_id,first_name,last_name,first_order,most_recent_order,number_of_orders,total_order_amount'},\n",
       "   'hash': '8fab84d152d6deede018715ffdbe8949e776d9513f9e2a341f2c5d1b625d57d5',\n",
       "   'class_name': 'RelatedNodeInfo'}},\n",
       " 'text': '',\n",
       " 'start_char_idx': 0,\n",
       " 'end_char_idx': 14,\n",
       " 'text_template': '{metadata_str}\\n\\n{content}',\n",
       " 'metadata_template': '{key}: {value}',\n",
       " 'metadata_seperator': '\\n',\n",
       " 'class_name': 'TextNode'}"
      ]
     },
     "execution_count": 19,
     "metadata": {},
     "output_type": "execute_result"
    }
   ],
   "source": [
    "nc = json.loads(query_response['metadatas'][0][1]['_node_content'])\n",
    "nc"
   ]
  },
  {
   "cell_type": "code",
   "execution_count": 20,
   "metadata": {},
   "outputs": [
    {
     "data": {
      "text/plain": [
       "{'description': \"This table has basic information about a customer, as well as some derived facts based on a customer's orders\",\n",
       " 'columns': 'customer_id,first_name,last_name,first_order,most_recent_order,number_of_orders,total_order_amount'}"
      ]
     },
     "execution_count": 20,
     "metadata": {},
     "output_type": "execute_result"
    }
   ],
   "source": [
    "nc['metadata']"
   ]
  },
  {
   "cell_type": "code",
   "execution_count": 21,
   "metadata": {},
   "outputs": [
    {
     "data": {
      "text/plain": [
       "['customer_id',\n",
       " 'customer_id,first_name,last_name,first_order,most_recent_order,number_of_orders,total_order_amount',\n",
       " 'payment_id,payment_method',\n",
       " 'order_id,status',\n",
       " 'order_id,customer_id,order_date,status,amount,credit_card_amount,coupon_amount,bank_transfer_amount,gift_card_amount']"
      ]
     },
     "execution_count": 21,
     "metadata": {},
     "output_type": "execute_result"
    }
   ],
   "source": [
    "result = []\n",
    "for m in query_response['metadatas'][0]:\n",
    "    nc = json.loads(m['_node_content'])\n",
    "    node_metadata = nc['metadata']\n",
    "    result.append(node_metadata['columns'])\n",
    "\n",
    "result"
   ]
  },
  {
   "cell_type": "code",
   "execution_count": 22,
   "metadata": {},
   "outputs": [
    {
     "data": {
      "text/plain": [
       "'abcdefghijklmnopqrstuvwxyzABCDEFGHIJKLMNOPQRSTUVWXYZ'"
      ]
     },
     "execution_count": 22,
     "metadata": {},
     "output_type": "execute_result"
    }
   ],
   "source": [
    "import string\n",
    "string.ascii_letters"
   ]
  },
  {
   "cell_type": "code",
   "execution_count": null,
   "metadata": {},
   "outputs": [],
   "source": []
  }
 ],
 "metadata": {
  "kernelspec": {
   "display_name": "Python 3.10.0 ('venv': venv)",
   "language": "python",
   "name": "python3"
  },
  "language_info": {
   "codemirror_mode": {
    "name": "ipython",
    "version": 3
   },
   "file_extension": ".py",
   "mimetype": "text/x-python",
   "name": "python",
   "nbconvert_exporter": "python",
   "pygments_lexer": "ipython3",
   "version": "3.12.3"
  },
  "orig_nbformat": 4,
  "vscode": {
   "interpreter": {
    "hash": "ccef4a5a22dd229f1c3745087ddeb5ed84244d50210325929ab29d3e19e4eb9e"
   }
  }
 },
 "nbformat": 4,
 "nbformat_minor": 2
}
