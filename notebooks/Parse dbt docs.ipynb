{
 "cells": [
  {
   "cell_type": "code",
   "execution_count": 1,
   "metadata": {},
   "outputs": [],
   "source": [
    "import json\n",
    "from pathlib import Path\n",
    "from dataclasses import dataclass\n",
    "from typing import List"
   ]
  },
  {
   "cell_type": "code",
   "execution_count": 2,
   "metadata": {},
   "outputs": [],
   "source": [
    "DBT_DOCS_DIR = Path(\"..\") / \"jaffle_shop_duckdb-duckdb\" / \"target\""
   ]
  },
  {
   "cell_type": "code",
   "execution_count": 3,
   "metadata": {},
   "outputs": [],
   "source": [
    "catalog_json_file_path = DBT_DOCS_DIR / \"catalog.json\"\n",
    "manifest_json_file_path = DBT_DOCS_DIR / \"manifest.json\""
   ]
  },
  {
   "cell_type": "code",
   "execution_count": 34,
   "metadata": {},
   "outputs": [],
   "source": [
    "@dataclass\n",
    "class ColumnMetadata:\n",
    "    name: str\n",
    "    description: str\n",
    "    type: str\n",
    "    accepted_values: List[str]\n",
    "\n",
    "@dataclass\n",
    "class TableMetadata:\n",
    "    database: str\n",
    "    schema: str\n",
    "    table: str\n",
    "    description: str\n",
    "    columns: List[ColumnMetadata]\n",
    "\n",
    "@dataclass\n",
    "class DatabaseMetadata:\n",
    "    tables: List[TableMetadata]"
   ]
  },
  {
   "cell_type": "code",
   "execution_count": 5,
   "metadata": {},
   "outputs": [],
   "source": [
    "with open(catalog_json_file_path) as f:\n",
    "    dbt_catalog = json.load(f)\n",
    "\n",
    "with open(manifest_json_file_path) as f:\n",
    "    dbt_manifest = json.load(f)"
   ]
  },
  {
   "cell_type": "code",
   "execution_count": 35,
   "metadata": {},
   "outputs": [],
   "source": [
    "all_accepted_values_tests = {}\n",
    "for node_name, node in dbt_manifest['nodes'].items():\n",
    "    if 'test_metadata' in node:\n",
    "        test_metadata = node['test_metadata']\n",
    "        if test_metadata['name'] == 'accepted_values':\n",
    "            kwargs = test_metadata['kwargs']\n",
    "            accepted_value = kwargs['values']\n",
    "            column_name = kwargs['column_name']\n",
    "            model_name = node['attached_node']\n",
    "            if model_name not in all_accepted_values_tests:\n",
    "                all_accepted_values_tests[model_name] = {}\n",
    "            all_accepted_values_tests[model_name][column_name] = accepted_value\n",
    "\n",
    "tables_metadata = []\n",
    "nodes = dbt_manifest['nodes']\n",
    "for model_name in nodes.keys():\n",
    "    node = nodes[model_name]\n",
    "\n",
    "    if node['resource_type'] == 'model':\n",
    "        columns_metadata = []\n",
    "        columns = node['columns']\n",
    "        for column_name in columns:\n",
    "            column_metadata = columns[column_name]\n",
    "\n",
    "            columns_metadata.append(\n",
    "                ColumnMetadata(\n",
    "                    name=column_name,\n",
    "                    description=column_metadata['description'],\n",
    "                    type=dbt_catalog['nodes'][model_name]['columns'].get(column_name, {}).get('type'),\n",
    "                    accepted_values=all_accepted_values_tests.get(model_name, {}).get(column_name, []),\n",
    "                )\n",
    "            )\n",
    "\n",
    "        tables_metadata.append(\n",
    "            TableMetadata(\n",
    "                database=node['database'],\n",
    "                schema=node['schema'],\n",
    "                table=node['name'],\n",
    "                description=node['description'],\n",
    "                columns=columns_metadata,\n",
    "            )\n",
    "        )\n",
    "\n",
    "database_metadata = DatabaseMetadata(tables_metadata)"
   ]
  },
  {
   "cell_type": "code",
   "execution_count": 36,
   "metadata": {},
   "outputs": [
    {
     "data": {
      "text/plain": [
       "DatabaseMetadata(tables=[TableMetadata(database='jaffle_shop', schema='main', table='customers', description=\"This table has basic information about a customer, as well as some derived facts based on a customer's orders\", columns=[ColumnMetadata(name='customer_id', description='This is a unique identifier for a customer', type='INTEGER', accepted_values=[]), ColumnMetadata(name='first_name', description=\"Customer's first name. PII.\", type='VARCHAR', accepted_values=[]), ColumnMetadata(name='last_name', description=\"Customer's last name. PII.\", type='VARCHAR', accepted_values=[]), ColumnMetadata(name='first_order', description=\"Date (UTC) of a customer's first order\", type='DATE', accepted_values=[]), ColumnMetadata(name='most_recent_order', description=\"Date (UTC) of a customer's most recent order\", type='DATE', accepted_values=[]), ColumnMetadata(name='number_of_orders', description='Count of the number of orders a customer has placed', type='BIGINT', accepted_values=[]), ColumnMetadata(name='total_order_amount', description=\"Total value (AUD) of a customer's orders\", type=None, accepted_values=[])]), TableMetadata(database='jaffle_shop', schema='main', table='orders', description='This table has basic information about orders, as well as some derived facts based on payments', columns=[ColumnMetadata(name='order_id', description='This is a unique identifier for an order', type='INTEGER', accepted_values=[]), ColumnMetadata(name='customer_id', description='Foreign key to the customers table', type='INTEGER', accepted_values=[]), ColumnMetadata(name='order_date', description='Date (UTC) that the order was placed', type='DATE', accepted_values=[]), ColumnMetadata(name='status', description='Orders can be one of the following statuses:\\n\\n| status         | description                                                                                                            |\\n|----------------|------------------------------------------------------------------------------------------------------------------------|\\n| placed         | The order has been placed but has not yet left the warehouse                                                           |\\n| shipped        | The order has ben shipped to the customer and is currently in transit                                                  |\\n| completed      | The order has been received by the customer                                                                            |\\n| return_pending | The customer has indicated that they would like to return the order, but it has not yet been received at the warehouse |\\n| returned       | The order has been returned by the customer and received at the warehouse                                              |', type='VARCHAR', accepted_values=['placed', 'shipped', 'completed', 'return_pending', 'returned']), ColumnMetadata(name='amount', description='Total amount (AUD) of the order', type='DOUBLE', accepted_values=[]), ColumnMetadata(name='credit_card_amount', description='Amount of the order (AUD) paid for by credit card', type='DOUBLE', accepted_values=[]), ColumnMetadata(name='coupon_amount', description='Amount of the order (AUD) paid for by coupon', type='DOUBLE', accepted_values=[]), ColumnMetadata(name='bank_transfer_amount', description='Amount of the order (AUD) paid for by bank transfer', type='DOUBLE', accepted_values=[]), ColumnMetadata(name='gift_card_amount', description='Amount of the order (AUD) paid for by gift card', type='DOUBLE', accepted_values=[])]), TableMetadata(database='jaffle_shop', schema='main', table='stg_customers', description='', columns=[ColumnMetadata(name='customer_id', description='', type='INTEGER', accepted_values=[])]), TableMetadata(database='jaffle_shop', schema='main', table='stg_orders', description='', columns=[ColumnMetadata(name='order_id', description='', type='INTEGER', accepted_values=[]), ColumnMetadata(name='status', description='', type='VARCHAR', accepted_values=['placed', 'shipped', 'completed', 'return_pending', 'returned'])]), TableMetadata(database='jaffle_shop', schema='main', table='stg_payments', description='', columns=[ColumnMetadata(name='payment_id', description='', type='INTEGER', accepted_values=[]), ColumnMetadata(name='payment_method', description='', type='VARCHAR', accepted_values=['credit_card', 'coupon', 'bank_transfer', 'gift_card'])])])"
      ]
     },
     "execution_count": 36,
     "metadata": {},
     "output_type": "execute_result"
    }
   ],
   "source": [
    "database_metadata"
   ]
  },
  {
   "cell_type": "code",
   "execution_count": 50,
   "metadata": {},
   "outputs": [
    {
     "name": "stdout",
     "output_type": "stream",
     "text": [
      "Document(text=\"main.customers\", extra_info= {'description': \"This table has basic information about a customer, as well as some derived facts based on a customer's orders\", 'columns': 'customer_id,first_name,last_name,first_order,most_recent_order,number_of_orders,total_order_amount'} ),\n",
      "Document(text=\"main.orders\", extra_info= {'description': 'This table has basic information about orders, as well as some derived facts based on payments', 'columns': 'order_id,customer_id,order_date,status,amount,credit_card_amount,coupon_amount,bank_transfer_amount,gift_card_amount'} ),\n",
      "Document(text=\"main.stg_customers\", extra_info= {'description': '', 'columns': 'customer_id'} ),\n",
      "Document(text=\"main.stg_orders\", extra_info= {'description': '', 'columns': 'order_id,status'} ),\n",
      "Document(text=\"main.stg_payments\", extra_info= {'description': '', 'columns': 'payment_id,payment_method'} ),\n"
     ]
    }
   ],
   "source": [
    "for t in database_metadata.tables:\n",
    "    print('Document(text=\"' + t.schema + \".\" + t.table + '\", extra_info=', {\n",
    "        \"description\": t.description,\n",
    "        \"columns\": ','.join([c.name for c in t.columns])\n",
    "    }, '),')"
   ]
  },
  {
   "cell_type": "code",
   "execution_count": 8,
   "metadata": {},
   "outputs": [
    {
     "data": {
      "text/plain": [
       "dict_keys(['metadata', 'nodes', 'sources', 'errors'])"
      ]
     },
     "execution_count": 8,
     "metadata": {},
     "output_type": "execute_result"
    }
   ],
   "source": [
    "dbt_catalog.keys()"
   ]
  },
  {
   "cell_type": "code",
   "execution_count": 13,
   "metadata": {},
   "outputs": [
    {
     "data": {
      "text/plain": [
       "'INTEGER'"
      ]
     },
     "execution_count": 13,
     "metadata": {},
     "output_type": "execute_result"
    }
   ],
   "source": [
    "dbt_catalog['nodes']['model.jaffle_shop.customers']['columns']['customer_id']['type']"
   ]
  },
  {
   "cell_type": "code",
   "execution_count": 32,
   "metadata": {},
   "outputs": [
    {
     "data": {
      "text/plain": [
       "{'model.jaffle_shop.orders': {'status': ['placed',\n",
       "   'shipped',\n",
       "   'completed',\n",
       "   'return_pending',\n",
       "   'returned']},\n",
       " 'model.jaffle_shop.stg_orders': {'status': ['placed',\n",
       "   'shipped',\n",
       "   'completed',\n",
       "   'return_pending',\n",
       "   'returned']},\n",
       " 'model.jaffle_shop.stg_payments': {'payment_method': ['credit_card',\n",
       "   'coupon',\n",
       "   'bank_transfer',\n",
       "   'gift_card']}}"
      ]
     },
     "execution_count": 32,
     "metadata": {},
     "output_type": "execute_result"
    }
   ],
   "source": [
    "all_accepted_values_tests = {}\n",
    "for node_name, node in dbt_manifest['nodes'].items():\n",
    "    if 'test_metadata' in node:\n",
    "        test_metadata = node['test_metadata']\n",
    "        if test_metadata['name'] == 'accepted_values':\n",
    "            kwargs = test_metadata['kwargs']\n",
    "            accepted_value = kwargs['values']\n",
    "            column_name = kwargs['column_name']\n",
    "            model_name = node['attached_node']\n",
    "            if model_name not in all_accepted_values_tests:\n",
    "                all_accepted_values_tests[model_name] = {}\n",
    "            all_accepted_values_tests[model_name][column_name] = accepted_value\n",
    "\n",
    "all_accepted_values_tests"
   ]
  },
  {
   "cell_type": "code",
   "execution_count": null,
   "metadata": {},
   "outputs": [],
   "source": []
  }
 ],
 "metadata": {
  "kernelspec": {
   "display_name": "Python 3.10.0 ('venv': venv)",
   "language": "python",
   "name": "python3"
  },
  "language_info": {
   "codemirror_mode": {
    "name": "ipython",
    "version": 3
   },
   "file_extension": ".py",
   "mimetype": "text/x-python",
   "name": "python",
   "nbconvert_exporter": "python",
   "pygments_lexer": "ipython3",
   "version": "3.10.0"
  },
  "orig_nbformat": 4,
  "vscode": {
   "interpreter": {
    "hash": "ccef4a5a22dd229f1c3745087ddeb5ed84244d50210325929ab29d3e19e4eb9e"
   }
  }
 },
 "nbformat": 4,
 "nbformat_minor": 2
}
